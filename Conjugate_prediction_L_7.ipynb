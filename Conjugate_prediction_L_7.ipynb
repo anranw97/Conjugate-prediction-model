{
  "nbformat": 4,
  "nbformat_minor": 0,
  "metadata": {
    "colab": {
      "name": "Conjugate prediction L-7.ipynb",
      "provenance": [],
      "collapsed_sections": [],
      "machine_shape": "hm"
    },
    "kernelspec": {
      "name": "python3",
      "display_name": "Python 3"
    }
  },
  "cells": [
    {
      "cell_type": "code",
      "metadata": {
        "id": "R9lZs0B_iHSJ",
        "colab": {
          "base_uri": "https://localhost:8080/"
        },
        "outputId": "a4418882-ce48-4c37-fee5-8f63645049e0"
      },
      "source": [
        "import numpy as np\n",
        "import matplotlib.pyplot as plt\n",
        "import pandas as pd #data reading\n",
        "!pip install peakutils\n",
        "import peakutils as peakutils #peakutils.baseline\n",
        "import math\n",
        "import csv"
      ],
      "execution_count": 1,
      "outputs": [
        {
          "output_type": "stream",
          "text": [
            "Collecting peakutils\n",
            "  Downloading https://files.pythonhosted.org/packages/0a/11/6416c8aebba4d5f73e23e1f070a419a8944f3ba17eed9efdf9cdc95f0411/PeakUtils-1.3.3-py3-none-any.whl\n",
            "Requirement already satisfied: scipy in /usr/local/lib/python3.6/dist-packages (from peakutils) (1.4.1)\n",
            "Requirement already satisfied: numpy in /usr/local/lib/python3.6/dist-packages (from peakutils) (1.18.5)\n",
            "Installing collected packages: peakutils\n",
            "Successfully installed peakutils-1.3.3\n"
          ],
          "name": "stdout"
        }
      ]
    },
    {
      "cell_type": "code",
      "metadata": {
        "id": "SUOcvEYLCFPw"
      },
      "source": [
        "Mn_tot,PDI,Mw_mono = 31700,1.7,229.28\n",
        "Mw_initiator, Mw_protein, degree_of_initiator = 220,25367,13\n",
        "#13=7*2-1 or you can adjust yourself becuase inthis case 11-13 may not help much due to low weight fraction\n",
        "Number_polymer = 10000 #if you want less noisy/fewer knots for prediction distribution and unless it is less than 100 it will not influence value results\n",
        "step = 2 #directly relevant to calculation load, fewer than 20 is practical, 2 is fastest, no need to go up\n",
        "Smoothfactor = 1 #if you don't like knots at all, slice calculation interval to generate the combined\n",
        "min, max = 2000,4e5\n",
        "min2, max2 = min+ Mw_protein, Mw_protein+max*degree_of_initiator\n",
        "Mw_new = 10**(np.linspace(np.log10(min), np.log10(max), Number_polymer))"
      ],
      "execution_count": 2,
      "outputs": []
    },
    {
      "cell_type": "code",
      "metadata": {
        "id": "i2fH7TfxK5Zv"
      },
      "source": [
        "with open('/content/drive/MyDrive/Master Research/GPC Calculation Model/data/All data/L-7 MALDI.csv', encoding=\"utf-8\") as f:\n",
        "    #pass\n",
        "    data = np.loadtxt(f, delimiter = \",\",skiprows=1)\n",
        "    x2 = data[:, 0]\n",
        "    y2 = data[:, 1]\n",
        "base = peakutils.baseline(np.asarray(y2),deg = 1, max_it = 100000, tol = .0001)#deg, max_it, tol can be customized\n",
        "y2_baselined = y2 - base\n",
        "y2 = y2_baselined/np.sum(y2_baselined)\n"
      ],
      "execution_count": 3,
      "outputs": []
    },
    {
      "cell_type": "code",
      "metadata": {
        "id": "wty3IoOBN8A_"
      },
      "source": [
        "a,d = Mw_protein, Mw_initiator\n",
        "\n",
        "x = x2\n",
        "y=y2\n",
        "x = np.array(x)\n",
        "y = np.array(y)\n",
        "\n",
        "sample_step_x_p = []\n",
        "sample_step_y_p = []\n",
        "\n",
        "Length = d\n",
        "for i in range(int(a), int(a+degree_of_initiator*d), Length):\n",
        "    begin = i\n",
        "    end = i + Length\n",
        "    candidate = []\n",
        "    candidate = np.array(candidate)\n",
        "    candidate = candidate.astype('int64')\n",
        "    for j in range(0,x.size):\n",
        "        if (x[j] <= end) and (x[j] >= begin):\n",
        "            #print(x[j])\n",
        "            candidate = np.append(candidate, int(j))\n",
        "    #print(candidate)\n",
        "    if(candidate.size == 0):\n",
        "        continue\n",
        "    x_sample = x[candidate]\n",
        "    y_sample = y[candidate]\n",
        "    x_ave = np.mean(x_sample)\n",
        "    y_ave = np.mean(y_sample)\n",
        "    sample_step_x_p = np.append(sample_step_x_p, x_ave)\n",
        "    sample_step_y_p = np.append(sample_step_y_p, y_ave)\n",
        "sample_step_x_p=sample_step_x_p\n",
        "sample_step_y_p=sample_step_y_p/np.sum(sample_step_y_p)"
      ],
      "execution_count": 4,
      "outputs": []
    },
    {
      "cell_type": "code",
      "metadata": {
        "id": "IOjuLhTdirQ9"
      },
      "source": [
        "Mw_tot = Mn_tot*PDI\n",
        "M0 = (Mn_tot*Mw_tot)**0.5\n",
        "sigma2 = np.sqrt(np.log(Mw_tot/Mn_tot))\n",
        "def LN(x, x0, sigma):\n",
        "    return 1/sigma/np.sqrt(2*np.pi)/x* np.exp(-1/2/(sigma**2)*((np.log(((x/x0)))**2)))"
      ],
      "execution_count": 5,
      "outputs": []
    },
    {
      "cell_type": "code",
      "metadata": {
        "id": "tvG68TTanoi9"
      },
      "source": [
        "x1_2_new=Mw_new\n",
        "y1_2_new= LN(Mw_new,M0,sigma2)/np.log10(np.e)*Mw_new###attention!!!"
      ],
      "execution_count": 6,
      "outputs": []
    },
    {
      "cell_type": "code",
      "metadata": {
        "id": "ptnEQtEwCmT4",
        "colab": {
          "base_uri": "https://localhost:8080/"
        },
        "outputId": "ee7bdcce-efbb-4dec-c0e9-55a10b1efbb0"
      },
      "source": [
        "x1_2 = [x1_2_new[i:i+step] for i in range(0,len(x1_2_new),step)]\n",
        "y1_2 = [y1_2_new[i:i+step] for i in range(0,len(x1_2_new),step)]\n",
        "len(x1_2)"
      ],
      "execution_count": 7,
      "outputs": [
        {
          "output_type": "execute_result",
          "data": {
            "text/plain": [
              "5000"
            ]
          },
          "metadata": {
            "tags": []
          },
          "execution_count": 7
        }
      ]
    },
    {
      "cell_type": "code",
      "metadata": {
        "id": "i_fTMx4RlGBP"
      },
      "source": [
        "N_2,P_2=[],[]"
      ],
      "execution_count": 8,
      "outputs": []
    },
    {
      "cell_type": "code",
      "metadata": {
        "id": "xWUCnvAU1ow_"
      },
      "source": [
        "N__1, N__2, N__3, N__4, N__5, N__6, N__7, N__8, N__9, N__10, N__11, N__12, N__13 = [], [], [], [], [], [], [], [], [], [], [], [], []\n",
        "P__1, P__2, P__3, P__4, P__5, P__6, P__7, P__8, P__9, P__10, P__11, P__12, P__13 = [], [], [], [], [], [], [], [], [], [], [], [], []"
      ],
      "execution_count": 9,
      "outputs": []
    },
    {
      "cell_type": "code",
      "metadata": {
        "id": "yViDUtAOf61G"
      },
      "source": [
        "for ii in range(len(x1_2)-1):\n",
        "    x1 = x1_2[ii]\n",
        "    y1 = y1_2[ii]\n",
        "    N1, N2, N3, N4, N5, N6, N7, N8, N9, N10, N11, N12, N13 = [], [], [], [], [], [], [], [], [], [], [], [], []\n",
        "    P1, P2, P3, P4, P5, P6, P7, P8, P9, P10, P11, P12, P13 = [], [], [], [], [], [], [], [], [], [], [], [], []\n",
        "    for i in range(step):\n",
        "        N1.append(x1[i] + a)\n",
        "        P1.append(y1[i] * sample_step_y_p[0])\n",
        "    N__1.extend(N1)\n",
        "    P__1.extend(P1)    \n",
        "    for i in range(step):\n",
        "        for j in range(step):\n",
        "            N2.append(N1[i] + x1[j])\n",
        "            P2.append((P1[i] + y1[j]) * sample_step_y_p[1])\n",
        "    N__2.extend(N2)\n",
        "    P__2.extend(P2)\n",
        "    for i in range(step ** 2):\n",
        "        for j in range(step):\n",
        "            N3.append(N2[i] + x1[j])\n",
        "            P3.append((P2[i] + y1[j]) * sample_step_y_p[2])\n",
        "    N__3.extend(N3)\n",
        "    P__3.extend(P3)\n",
        "    for i in range(step ** 3):\n",
        "        for j in range(step):\n",
        "            N4.append(N3[i] + x1[j])\n",
        "            P4.append((P3[i] + y1[j]) * sample_step_y_p[3])\n",
        "    N__4.extend(N4)\n",
        "    P__4.extend(P4)\n",
        "    for i in range(step ** 4):\n",
        "        for j in range(step):\n",
        "            N5.append(N4[i] + x1[j])\n",
        "            P5.append((P4[i] + y1[j]) * sample_step_y_p[4])\n",
        "    N__5.extend(N5)\n",
        "    P__5.extend(P5)\n",
        "    for i in range(step ** 5):\n",
        "        for j in range(step):\n",
        "            N6.append(N5[i] + x1[j])\n",
        "            P6.append((P5[i] + y1[j]) * sample_step_y_p[5])\n",
        "    N__6.extend(N6)\n",
        "    P__6.extend(P6)\n",
        "    for i in range(step ** 6):\n",
        "        for j in range(step):\n",
        "            N7.append(N6[i] + x1[j])\n",
        "            P7.append((P6[i] + y1[j]) * sample_step_y_p[6])\n",
        "    N__7.extend(N7)\n",
        "    P__7.extend(P7)\n",
        "    for i in range(step ** 7):\n",
        "        for j in range(step):\n",
        "            N8.append(N7[i] + x1[j])\n",
        "            P8.append((P7[i] + y1[j]) * sample_step_y_p[7])\n",
        "    N__8.extend(N8)\n",
        "    P__8.extend(P8)\n",
        "    for i in range(step ** 8):\n",
        "        for j in range(step):\n",
        "            N9.append(N8[i] + x1[j])\n",
        "            P9.append((P8[i] + y1[j]) * sample_step_y_p[8])\n",
        "    N__9.extend(N9)\n",
        "    P__9.extend(P9)\n",
        "    for i in range(step ** 9):\n",
        "        for j in range(step):\n",
        "            N10.append(N9[i] + x1[j])\n",
        "            P10.append((P9[i] + y1[j]) * sample_step_y_p[9])\n",
        "    N__10.extend(N10)\n",
        "    P__10.extend(P10)\n",
        "    for i in range(step ** 10):\n",
        "        for j in range(step):\n",
        "            N11.append(N10[i] + x1[j])\n",
        "            P11.append((P10[i] + y1[j]) * sample_step_y_p[10])    \n",
        "    N__11.extend(N11)\n",
        "    P__11.extend(P11)\n",
        "    for i in range(step ** 11):\n",
        "        for j in range(step):\n",
        "            N12.append(N11[i] + x1[j])\n",
        "            P12.append((P11[i] + y1[j]) * sample_step_y_p[11])    \n",
        "    N__12.extend(N12)\n",
        "    P__12.extend(P12)   \n",
        "    for i in range(step ** 12):\n",
        "        for j in range(step):\n",
        "            N13.append(N12[i] + x1[j])\n",
        "            P13.append((P12[i] + y1[j]) * sample_step_y_p[12])    \n",
        "    N__13.extend(N13)\n",
        "    P__13.extend(P13)   \n",
        "    N_2_proxy = np.concatenate((N1, N2, N3, N4, N5, N6, N7, N8, N9, N10, N11, N12, N13),axis=0)\n",
        "    P_2_proxy = np.concatenate((P1, P2, P3, P4, P5, P6, P7, P8, P9, P10, P11, P12, P13),axis=0)\n",
        "    N_2 = np.append(N_2, N_2_proxy)\n",
        "    P_2 = np.append(P_2, P_2_proxy)\n"
      ],
      "execution_count": 10,
      "outputs": []
    },
    {
      "cell_type": "code",
      "metadata": {
        "id": "UixaZim8HSl5",
        "colab": {
          "base_uri": "https://localhost:8080/",
          "height": 287
        },
        "outputId": "428b1507-2122-4354-b90b-2f1dbeabb2b1"
      },
      "source": [
        "fig, ax = plt.subplots()\n",
        "ax.semilogx(N__1,P__1,'.')\n",
        "plt.plot(N__2,P__2,'.')\n",
        "plt.plot(N__3,P__3,'.')\n",
        "plt.plot(N__4,P__4,'.')\n",
        "plt.plot(N__5,P__5,'.')\n",
        "plt.plot(N__6,P__6,'.')\n",
        "plt.plot(N__7,P__7,'.')\n",
        "plt.plot(N__8,P__8,'.')\n",
        "plt.plot(N__9,P__9,'.')\n",
        "plt.plot(N__10,P__10,'.')\n",
        "plt.plot(N__11,P__11,'.')\n",
        "plt.plot(N__12,P__12,'.')\n",
        "plt.plot(N__13,P__13,'.')\n",
        "name=[]\n",
        "for i in range(degree_of_initiator):\n",
        "  name.append(f'P{i+1}')\n",
        "plt.legend(name,loc='upper right')"
      ],
      "execution_count": 11,
      "outputs": [
        {
          "output_type": "execute_result",
          "data": {
            "text/plain": [
              "<matplotlib.legend.Legend at 0x7f73dd26c518>"
            ]
          },
          "metadata": {
            "tags": []
          },
          "execution_count": 11
        },
        {
          "output_type": "display_data",
          "data": {
            "image/png": "[encoded data removed]",
            "text/plain": [
              "<Figure size 432x288 with 1 Axes>"
            ]
          },
          "metadata": {
            "tags": [],
            "needs_background": "light"
          }
        }
      ]
    },
    {
      "cell_type": "code",
      "metadata": {
        "id": "VPRSQzoY_yVH"
      },
      "source": [
        "order = np.argsort(N_2)"
      ],
      "execution_count": 12,
      "outputs": []
    },
    {
      "cell_type": "code",
      "metadata": {
        "id": "pxcQ1AMKAhIu"
      },
      "source": [
        "N22=[]\n",
        "P22=[]\n",
        "for i in order:\n",
        "  N22.append(N_2[i])\n",
        "  P22.append(P_2[i])\n"
      ],
      "execution_count": 13,
      "outputs": []
    },
    {
      "cell_type": "code",
      "metadata": {
        "id": "dnW4VOa4tGRz"
      },
      "source": [
        "from itertools import groupby\n",
        "n2=[]\n",
        "p2=[]\n",
        "index=[]\n",
        "for k, g in groupby(N22, key=lambda x: x//(Mw_mono*Smoothfactor)):\n",
        "  index.append(len(list(g)))\n",
        "for k, g in groupby(N22, key=lambda x: x//(Mw_mono*Smoothfactor)):\n",
        "  n2.append(np.mean(list(g)))  \n",
        "j=0\n",
        "\n",
        "for i in index:\n",
        "  s=np.sum(P22[j:j+i])\n",
        "  j+=i\n",
        "  p2.append(s)\n"
      ],
      "execution_count": 14,
      "outputs": []
    },
    {
      "cell_type": "code",
      "metadata": {
        "colab": {
          "base_uri": "https://localhost:8080/",
          "height": 287
        },
        "id": "NaIJIUiDtzmh",
        "outputId": "36bca91e-2226-48a8-a4f1-5abd708e0a96"
      },
      "source": [
        "fig, ax = plt.subplots()\r\n",
        "ax.semilogx(n2,p2,'-')"
      ],
      "execution_count": 15,
      "outputs": [
        {
          "output_type": "execute_result",
          "data": {
            "text/plain": [
              "[<matplotlib.lines.Line2D at 0x7f73dcc65c18>]"
            ]
          },
          "metadata": {
            "tags": []
          },
          "execution_count": 15
        },
        {
          "output_type": "display_data",
          "data": {
            "image/png": "[encoded data removed]",
            "text/plain": [
              "<Figure size 432x288 with 1 Axes>"
            ]
          },
          "metadata": {
            "tags": [],
            "needs_background": "light"
          }
        }
      ]
    },
    {
      "cell_type": "code",
      "metadata": {
        "id": "VHjKewipPBzD",
        "colab": {
          "base_uri": "https://localhost:8080/"
        },
        "outputId": "ba6aed7b-5349-4d28-ae51-71d096dd4889"
      },
      "source": [
        "x_conjugate = n2\n",
        "y_conjugate = p2\n",
        "def predict_verification3(Mw,baselined_intensity):\n",
        "  ##Module calculation\n",
        "  sigmaH = 0\n",
        "  W = []\n",
        "  M =[]\n",
        "  H =[]\n",
        "  sum_Wi_Mi = 0  \n",
        "  sum_WiMi = 0   \n",
        "\n",
        "  for x,y in zip(Mw, baselined_intensity):\n",
        "    if x >= min2 and x <= max2:\n",
        "      sigmaH += y\n",
        "      M.append(x)\n",
        "\n",
        "  for x,y in zip(Mw, baselined_intensity):\n",
        "    if x >= min2 and x <= max2:\n",
        "      W.append(y/sigmaH)\n",
        "      H.append(y)\n",
        "\n",
        "  for i in range(len(W)):\n",
        "    sum_Wi_Mi += W[i]/M[i]\n",
        "    sum_WiMi += W[i]*M[i]\n",
        "\n",
        "\n",
        "  Mn_tot = 1/(sum_Wi_Mi)\n",
        "  Mw_tot = sum_WiMi\n",
        "  PDI = Mw_tot / Mn_tot\n",
        "\n",
        "  print(f'Predicted Conjugate Mn is {Mn_tot:.1f} Da, Mw is {Mw_tot:.1f} Da, PDI is {PDI:.2f}')\n",
        "predict_verification3(x_conjugate,y_conjugate)\n"
      ],
      "execution_count": 16,
      "outputs": [
        {
          "output_type": "stream",
          "text": [
            "Predicted Conjugate Mn is 379673.0 Da, Mw is 617744.4 Da, PDI is 1.63\n"
          ],
          "name": "stdout"
        }
      ]
    },
    {
      "cell_type": "code",
      "metadata": {
        "id": "6bgeOBzZmNDL",
        "colab": {
          "base_uri": "https://localhost:8080/",
          "height": 303
        },
        "outputId": "bd590246-c4f6-414a-f3ae-3967238f9def"
      },
      "source": [
        "with open('/content/drive/MyDrive/Master Research/GPC Calculation Model/data/All data/L-7 MALS-RI(dense).csv', encoding=\"utf-8\") as f:\n",
        "    #pass\n",
        "    data2 = np.loadtxt(f, delimiter = \",\")\n",
        "    m1 = data2[:, 1]\n",
        "    o1 = data2[:, 2]\n",
        "with open('/content/drive/MyDrive/Master Research/GPC Calculation Model/data/All data/L-7 MALS-LS(dense).csv', encoding=\"utf-8\") as f:\n",
        "    #pass\n",
        "    data3 = np.loadtxt(f, delimiter = \",\")\n",
        "    m2 = data3[:, 1]\n",
        "    o2 = data3[:, 2]   \n",
        "# fig, ax = plt.subplots(figsize=(50, 30))\n",
        "# ax.semilogx(o1,m1/np.max(m1),'--')\n",
        "# plt.semilogx(o2,m2/np.max(m2),'--')\n",
        "# plt.semilogx(n2,p2/np.max(p2),'-')\n",
        "# plt.legend(['RI','LS','prediction'])\n",
        "# plt.title('L-3')\n",
        "# plt.show()##take a closer look at green line\n",
        "fig, ax = plt.subplots()\n",
        "ax.semilogx(o1,m1/np.max(m1),'--')\n",
        "plt.semilogx(o2,m2/np.max(m2),'--')\n",
        "plt.semilogx(n2,p2/np.max(p2),'-')\n",
        "plt.legend(['RI','LS','Prediction'])\n",
        "plt.title('L-7 comparison between experimental(dense) and prediction results')"
      ],
      "execution_count": 17,
      "outputs": [
        {
          "output_type": "execute_result",
          "data": {
            "text/plain": [
              "Text(0.5, 1.0, 'L-7 comparison between experimental(dense) and prediction results')"
            ]
          },
          "metadata": {
            "tags": []
          },
          "execution_count": 17
        },
        {
          "output_type": "display_data",
          "data": {
            "image/png": "[encoded data removed]",
            "text/plain": [
              "<Figure size 432x288 with 1 Axes>"
            ]
          },
          "metadata": {
            "tags": [],
            "needs_background": "light"
          }
        }
      ]
    },
    {
      "cell_type": "code",
      "metadata": {
        "id": "miTO7d9hdEh2"
      },
      "source": [
        "#datapoint correction, time interval is equal\n",
        "t = np.linspace(5,35,310)\n",
        "xnew = 10**(0.0539*t+4.5724)"
      ],
      "execution_count": 18,
      "outputs": []
    },
    {
      "cell_type": "code",
      "metadata": {
        "colab": {
          "base_uri": "https://localhost:8080/",
          "height": 273
        },
        "id": "tkPZThcAdFXE",
        "outputId": "03a0ca7a-9a9a-488c-fdb2-2ae6baafbbaf"
      },
      "source": [
        "from scipy import interpolate\n",
        "x=o1\n",
        "y=m1\n",
        "fig, ax = plt.subplots()\n",
        "ax.semilogx(x,y,'ro')\n",
        "f=interpolate.interp1d(x,y,kind='linear',fill_value=\"extrapolate\")\n",
        "ynew=f(xnew)\n",
        "plt.plot(xnew,ynew,'b--')\n",
        "plt.legend(['Data extraction(dense) from experimental RI fractogram','After regulation'])\n",
        "# plt.xlim([0,1e6])\n",
        "plt.ylim([0,0.06])\n",
        "plt.show()"
      ],
      "execution_count": 19,
      "outputs": [
        {
          "output_type": "display_data",
          "data": {
            "image/png": "[encoded data removed]",
            "text/plain": [
              "<Figure size 432x288 with 1 Axes>"
            ]
          },
          "metadata": {
            "tags": [],
            "needs_background": "light"
          }
        }
      ]
    },
    {
      "cell_type": "code",
      "metadata": {
        "colab": {
          "base_uri": "https://localhost:8080/"
        },
        "id": "CNYETeOKdKfo",
        "outputId": "a0ce0880-4277-4c4b-fa80-b45518b08cc8"
      },
      "source": [
        "x_conjugate = xnew\n",
        "y_conjugate = ynew\n",
        "def predict_verification3(Mw,baselined_intensity):\n",
        "  ##Module calculation\n",
        "  sigmaH = 0\n",
        "  W = []\n",
        "  M =[]\n",
        "  H =[]\n",
        "  sum_Wi_Mi = 0  \n",
        "  sum_WiMi = 0   \n",
        "\n",
        "  for x,y in zip(Mw, baselined_intensity):\n",
        "    if x >= Mw.min() and x <= Mw.max():\n",
        "      sigmaH += y\n",
        "      M.append(x)\n",
        "\n",
        "  for x,y in zip(Mw, baselined_intensity):\n",
        "    if x >= Mw.min() and x <= Mw.max():\n",
        "      W.append(y/sigmaH)\n",
        "      H.append(y)\n",
        "\n",
        "  for i in range(len(W)):\n",
        "    sum_Wi_Mi += W[i]/M[i]\n",
        "    sum_WiMi += W[i]*M[i]\n",
        "\n",
        "\n",
        "  Mn_tot = 1/(sum_Wi_Mi)\n",
        "  Mw_tot = sum_WiMi\n",
        "  PDI = Mw_tot / Mn_tot\n",
        "\n",
        "  print(f'RI(dense, after regulation)-derived Conjugate Mn is {Mn_tot:.1f} Da, Mw is {Mw_tot:.1f} Da, PDI is {PDI:.2f}')\n",
        "predict_verification3(x_conjugate,y_conjugate)\n"
      ],
      "execution_count": 20,
      "outputs": [
        {
          "output_type": "stream",
          "text": [
            "RI(dense, after regulation)-derived Conjugate Mn is 337269.7 Da, Mw is 576784.4 Da, PDI is 1.71\n"
          ],
          "name": "stdout"
        }
      ]
    },
    {
      "cell_type": "code",
      "metadata": {
        "id": "a2geqXJa_W6t"
      },
      "source": [
        "#datapoint correction, time interval is equal\n",
        "#notice in this case, retention range is different from RI. This is also the reason why LS/RI/Mw constant verification cannot be conducted\n",
        "t = np.linspace(5,55,510)\n",
        "xnew = 10**(0.0539*t+4.5724)"
      ],
      "execution_count": 21,
      "outputs": []
    },
    {
      "cell_type": "code",
      "metadata": {
        "colab": {
          "base_uri": "https://localhost:8080/",
          "height": 273
        },
        "id": "jTvK0R7XdMtl",
        "outputId": "aaa5af16-92bb-4be0-f770-42da9628c118"
      },
      "source": [
        "from scipy import interpolate\n",
        "x=o2\n",
        "y=m2\n",
        "fig, ax = plt.subplots()\n",
        "ax.semilogx(x,y,'ro')\n",
        "f=interpolate.interp1d(x,y,kind='linear',fill_value=\"extrapolate\")\n",
        "ynew1=f(xnew)\n",
        "plt.plot(xnew,ynew1,'b--')\n",
        "plt.legend(['Data extraction from experimental LS fractogram','After regulation'])\n",
        "# plt.xlim([0,1e6])\n",
        "plt.ylim([0,0.25])\n",
        "plt.show()"
      ],
      "execution_count": 22,
      "outputs": [
        {
          "output_type": "display_data",
          "data": {
            "image/png": "[encoded data removed]",
            "text/plain": [
              "<Figure size 432x288 with 1 Axes>"
            ]
          },
          "metadata": {
            "tags": [],
            "needs_background": "light"
          }
        }
      ]
    },
    {
      "cell_type": "code",
      "metadata": {
        "colab": {
          "base_uri": "https://localhost:8080/"
        },
        "id": "AUWBAgzudOj4",
        "outputId": "59353515-0a07-473f-beeb-b1878bd33f54"
      },
      "source": [
        "x_conjugate = xnew\n",
        "y_conjugate = ynew1\n",
        "def predict_verification3(Mw,baselined_intensity):\n",
        "  ##Module calculation\n",
        "  sigmaH = 0\n",
        "  W = []\n",
        "  M =[]\n",
        "  H =[]\n",
        "  sum_Wi_Mi = 0  \n",
        "  sum_WiMi = 0   \n",
        "\n",
        "  for x,y in zip(Mw, baselined_intensity):\n",
        "    if x >= Mw.min() and x <= Mw.max():\n",
        "      sigmaH += y/x\n",
        "      M.append(x)\n",
        "\n",
        "  for x,y in zip(Mw, baselined_intensity):\n",
        "    if x >= Mw.min() and x <= Mw.max():\n",
        "      W.append(y/x/sigmaH)\n",
        "      H.append(y)\n",
        "\n",
        "  for i in range(len(W)):\n",
        "    sum_Wi_Mi += W[i]/M[i]\n",
        "    sum_WiMi += W[i]*M[i]\n",
        "\n",
        "\n",
        "  Mn_tot = 1/(sum_Wi_Mi)\n",
        "  Mw_tot = sum_WiMi\n",
        "  PDI = Mw_tot / Mn_tot\n",
        "\n",
        "  print(f'LS(dense,after regulation)-derived Conjugate Mn is {Mn_tot:.1f} Da, Mw is {Mw_tot:.1f} Da, PDI is {PDI:.2f}')\n",
        "predict_verification3(x_conjugate,y_conjugate)\n"
      ],
      "execution_count": 23,
      "outputs": [
        {
          "output_type": "stream",
          "text": [
            "LS(dense,after regulation)-derived Conjugate Mn is 380135.3 Da, Mw is 630362.0 Da, PDI is 1.66\n"
          ],
          "name": "stdout"
        }
      ]
    },
    {
      "cell_type": "code",
      "metadata": {
        "id": "aQ8g46uwdQ8k"
      },
      "source": [
        "#see!\n",
        "# np.min(ynew1/xnew/ynew),np.max(ynew1/xnew/ynew)\n",
        "# xx = ynew1/xnew/ynew\n",
        "# yy=xx[150:360]\n",
        "# zz=xx[230:280]"
      ],
      "execution_count": 24,
      "outputs": []
    },
    {
      "cell_type": "code",
      "metadata": {
        "id": "J1JC1i-MdSfZ"
      },
      "source": [
        "# num_bins1, num_bins2 = 200, 200\n",
        "# # the histogram of the data  \n",
        "# n, bins, patches = plt.hist(xx, num_bins1,facecolor='blue')  \n",
        "# plt.show()\n",
        "# n, bins, patches = plt.hist(yy, num_bins2,facecolor='blue')  \n",
        "# plt.show()\n",
        "# n, bins, patches = plt.hist(zz, num_bins2,facecolor='blue')  "
      ],
      "execution_count": 25,
      "outputs": []
    },
    {
      "cell_type": "code",
      "metadata": {
        "id": "a6CubM_7dU-C"
      },
      "source": [
        "# plt.errorbar(0,np.mean(zz),yerr= np.std(zz),fmt='o',ecolor='r',color='b',elinewidth=2,capsize=4)\n",
        "# plt.ylim([0.4e-5,8e-6])\n",
        "# plt.show()"
      ],
      "execution_count": 26,
      "outputs": []
    },
    {
      "cell_type": "code",
      "metadata": {
        "colab": {
          "base_uri": "https://localhost:8080/"
        },
        "id": "vR_a5ynFdZyE",
        "outputId": "6586df1c-4efa-47b4-f244-2fda31a67011"
      },
      "source": [
        "x_conjugate = o1\n",
        "y_conjugate = m1\n",
        "def predict_verification3(Mw,baselined_intensity):\n",
        "  ##Module calculation\n",
        "  sigmaH = 0\n",
        "  W = []\n",
        "  M =[]\n",
        "  H =[]\n",
        "  sum_Wi_Mi = 0  \n",
        "  sum_WiMi = 0   \n",
        "\n",
        "  for x,y in zip(Mw, baselined_intensity):\n",
        "    if x >= Mw.min() and x <= Mw.max():\n",
        "      sigmaH += y\n",
        "      M.append(x)\n",
        "\n",
        "  for x,y in zip(Mw, baselined_intensity):\n",
        "    if x >= Mw.min() and x <= Mw.max():\n",
        "      W.append(y/sigmaH)\n",
        "      H.append(y)\n",
        "\n",
        "  for i in range(len(W)):\n",
        "    sum_Wi_Mi += W[i]/M[i]\n",
        "    sum_WiMi += W[i]*M[i]\n",
        "\n",
        "\n",
        "  Mn_tot = 1/(sum_Wi_Mi)\n",
        "  Mw_tot = sum_WiMi\n",
        "  PDI = Mw_tot / Mn_tot\n",
        "\n",
        "  print(f'RI(dense)-derived Conjugate Mn is {Mn_tot:.1f} Da, Mw is {Mw_tot:.1f} Da, PDI is {PDI:.2f}')\n",
        "predict_verification3(x_conjugate,y_conjugate)"
      ],
      "execution_count": 27,
      "outputs": [
        {
          "output_type": "stream",
          "text": [
            "RI(dense)-derived Conjugate Mn is 327857.3 Da, Mw is 525680.1 Da, PDI is 1.60\n"
          ],
          "name": "stdout"
        }
      ]
    },
    {
      "cell_type": "code",
      "metadata": {
        "colab": {
          "base_uri": "https://localhost:8080/"
        },
        "id": "lqbMOpXodb3_",
        "outputId": "c11cf105-cd1d-49ad-efe6-62f5640922f6"
      },
      "source": [
        "x_conjugate = o2\n",
        "y_conjugate = m2\n",
        "def predict_verification3(Mw,baselined_intensity):\n",
        "  ##Module calculation\n",
        "  sigmaH = 0\n",
        "  W = []\n",
        "  M =[]\n",
        "  H =[]\n",
        "  sum_Wi_Mi = 0  \n",
        "  sum_WiMi = 0   \n",
        "\n",
        "  for x,y in zip(Mw, baselined_intensity):\n",
        "    if x >= Mw.min() and x <= Mw.max():\n",
        "      sigmaH += y/x#NOTICE!!LS signal is porpotional to the product of conc and M\n",
        "      M.append(x)\n",
        "\n",
        "  for x,y in zip(Mw, baselined_intensity):\n",
        "    if x >= Mw.min() and x <= Mw.max():\n",
        "      W.append(y/x/sigmaH)\n",
        "      H.append(y)\n",
        "\n",
        "  for i in range(len(W)):\n",
        "    sum_Wi_Mi += W[i]/M[i]\n",
        "    sum_WiMi += W[i]*M[i]\n",
        "\n",
        "\n",
        "  Mn_tot = 1/(sum_Wi_Mi)\n",
        "  Mw_tot = sum_WiMi\n",
        "  PDI = Mw_tot / Mn_tot\n",
        "\n",
        "  print(f'LS(dense)-derived Conjugate Mn is {Mn_tot:.1f} Da, Mw is {Mw_tot:.1f} Da, PDI is {PDI:.2f}')\n",
        "predict_verification3(x_conjugate,y_conjugate)\n"
      ],
      "execution_count": 28,
      "outputs": [
        {
          "output_type": "stream",
          "text": [
            "LS(dense)-derived Conjugate Mn is 377998.0 Da, Mw is 615536.0 Da, PDI is 1.63\n"
          ],
          "name": "stdout"
        }
      ]
    },
    {
      "cell_type": "code",
      "metadata": {
        "colab": {
          "base_uri": "https://localhost:8080/",
          "height": 303
        },
        "id": "y80blk5kQ_aw",
        "outputId": "207ed658-bce6-4dbf-a3ce-060f757903dd"
      },
      "source": [
        "with open('/content/drive/MyDrive/Master Research/GPC Calculation Model/data/All data/L-7 MALS-RI(coarse).csv', encoding=\"utf-8\") as f:\n",
        "    #pass\n",
        "    data2 = np.loadtxt(f, delimiter = \",\")\n",
        "    m1 = data2[:, 1]\n",
        "    o1 = data2[:, 2]\n",
        "with open('/content/drive/MyDrive/Master Research/GPC Calculation Model/data/All data/L-7 MALS-LS(coarse).csv', encoding=\"utf-8\") as f:\n",
        "    #pass\n",
        "    data2 = np.loadtxt(f, delimiter = \",\")\n",
        "    m2 = data2[:, 1]\n",
        "    o2 = data2[:, 2]\n",
        " \n",
        "fig, ax = plt.subplots()\n",
        "ax.semilogx(o1,m1/np.max(m1),'--')\n",
        "plt.semilogx(o2,m2/np.max(m2),'--')\n",
        "plt.semilogx(n2,p2/np.max(p2),'-')\n",
        "plt.legend(['RI','LS','prediction'])\n",
        "plt.title('L-7 comparison between experimental(coarse) and prediction results')"
      ],
      "execution_count": 29,
      "outputs": [
        {
          "output_type": "execute_result",
          "data": {
            "text/plain": [
              "Text(0.5, 1.0, 'L-7 comparison between experimental(coarse) and prediction results')"
            ]
          },
          "metadata": {
            "tags": []
          },
          "execution_count": 29
        },
        {
          "output_type": "display_data",
          "data": {
            "image/png": "[encoded data removed]",
            "text/plain": [
              "<Figure size 432x288 with 1 Axes>"
            ]
          },
          "metadata": {
            "tags": [],
            "needs_background": "light"
          }
        }
      ]
    },
    {
      "cell_type": "code",
      "metadata": {
        "id": "3EPqaYLeQ_dR"
      },
      "source": [
        "#datapoint correction, time interval is equal\n",
        "t = np.linspace(5,35,310)\n",
        "xnew = 10**(0.0539*t+4.5724)"
      ],
      "execution_count": 30,
      "outputs": []
    },
    {
      "cell_type": "code",
      "metadata": {
        "colab": {
          "base_uri": "https://localhost:8080/",
          "height": 273
        },
        "id": "umcl37sURWRv",
        "outputId": "99ff0461-b725-4cc7-ea05-bd24492a6e70"
      },
      "source": [
        "from scipy import interpolate\n",
        "x=o1\n",
        "y=m1\n",
        "fig, ax = plt.subplots()\n",
        "ax.semilogx(x,y,'ro')\n",
        "f=interpolate.interp1d(x,y,kind='linear',fill_value=\"extrapolate\")\n",
        "ynew=f(xnew)\n",
        "plt.plot(xnew,ynew,'b--')\n",
        "plt.legend(['Data extraction(coarse) from experimental RI fractogram','After regulation'])\n",
        "# plt.xlim([0,1e6])\n",
        "plt.ylim([0,0.06])\n",
        "plt.show()"
      ],
      "execution_count": 31,
      "outputs": [
        {
          "output_type": "display_data",
          "data": {
            "image/png": "[encoded data removed]",
            "text/plain": [
              "<Figure size 432x288 with 1 Axes>"
            ]
          },
          "metadata": {
            "tags": [],
            "needs_background": "light"
          }
        }
      ]
    },
    {
      "cell_type": "code",
      "metadata": {
        "colab": {
          "base_uri": "https://localhost:8080/"
        },
        "id": "JRVL9gulRZlC",
        "outputId": "c6a33a41-92b9-49c7-d449-602cf333e3e1"
      },
      "source": [
        "x_conjugate = xnew\n",
        "y_conjugate = ynew\n",
        "def predict_verification3(Mw,baselined_intensity):\n",
        "  ##Module calculation\n",
        "  sigmaH = 0\n",
        "  W = []\n",
        "  M =[]\n",
        "  H =[]\n",
        "  sum_Wi_Mi = 0  \n",
        "  sum_WiMi = 0   \n",
        "\n",
        "  for x,y in zip(Mw, baselined_intensity):\n",
        "    if x >= Mw.min() and x <= Mw.max():\n",
        "      sigmaH += y\n",
        "      M.append(x)\n",
        "\n",
        "  for x,y in zip(Mw, baselined_intensity):\n",
        "    if x >= Mw.min() and x <= Mw.max():\n",
        "      W.append(y/sigmaH)\n",
        "      H.append(y)\n",
        "\n",
        "  for i in range(len(W)):\n",
        "    sum_Wi_Mi += W[i]/M[i]\n",
        "    sum_WiMi += W[i]*M[i]\n",
        "\n",
        "\n",
        "  Mn_tot = 1/(sum_Wi_Mi)\n",
        "  Mw_tot = sum_WiMi\n",
        "  PDI = Mw_tot / Mn_tot\n",
        "\n",
        "  print(f'RI(coarse, after regulation)-derived Conjugate Mn is {Mn_tot:.1f} Da, Mw is {Mw_tot:.1f} Da, PDI is {PDI:.2f}')\n",
        "predict_verification3(x_conjugate,y_conjugate)\n"
      ],
      "execution_count": 32,
      "outputs": [
        {
          "output_type": "stream",
          "text": [
            "RI(coarse, after regulation)-derived Conjugate Mn is 345463.3 Da, Mw is 587231.3 Da, PDI is 1.70\n"
          ],
          "name": "stdout"
        }
      ]
    },
    {
      "cell_type": "code",
      "metadata": {
        "id": "1cN_sfHqQ_go"
      },
      "source": [
        "t = np.linspace(5,55,510)\n",
        "xnew = 10**(0.0539*t+4.5724)"
      ],
      "execution_count": 33,
      "outputs": []
    },
    {
      "cell_type": "code",
      "metadata": {
        "colab": {
          "base_uri": "https://localhost:8080/",
          "height": 273
        },
        "id": "oGyheyrIQ_ub",
        "outputId": "30b76fbf-6d65-4de1-8aac-0521172300e4"
      },
      "source": [
        "from scipy import interpolate\n",
        "x=o2\n",
        "y=m2\n",
        "fig, ax = plt.subplots()\n",
        "ax.semilogx(x,y,'ro')\n",
        "f=interpolate.interp1d(x,y,kind='linear',fill_value=\"extrapolate\")\n",
        "ynew1=f(xnew)\n",
        "plt.plot(xnew,ynew1,'b--')\n",
        "plt.legend(['Data extraction(coarse) from experimental LS fractogram','After regulation'])\n",
        "# plt.xlim([0,1e6])\n",
        "plt.ylim([0,0.25])\n",
        "plt.show()"
      ],
      "execution_count": 34,
      "outputs": [
        {
          "output_type": "display_data",
          "data": {
            "image/png": "[encoded data removed]",
            "text/plain": [
              "<Figure size 432x288 with 1 Axes>"
            ]
          },
          "metadata": {
            "tags": [],
            "needs_background": "light"
          }
        }
      ]
    },
    {
      "cell_type": "code",
      "metadata": {
        "colab": {
          "base_uri": "https://localhost:8080/"
        },
        "id": "raenYMqFQ_xF",
        "outputId": "f5fa78c1-9a83-4941-fdc4-de23401cb202"
      },
      "source": [
        "x_conjugate = xnew\n",
        "y_conjugate = ynew1\n",
        "def predict_verification3(Mw,baselined_intensity):\n",
        "  ##Module calculation\n",
        "  sigmaH = 0\n",
        "  W = []\n",
        "  M =[]\n",
        "  H =[]\n",
        "  sum_Wi_Mi = 0  \n",
        "  sum_WiMi = 0   \n",
        "\n",
        "  for x,y in zip(Mw, baselined_intensity):\n",
        "    if x >= Mw.min() and x <= Mw.max():\n",
        "      sigmaH += y/x\n",
        "      M.append(x)\n",
        "\n",
        "  for x,y in zip(Mw, baselined_intensity):\n",
        "    if x >= Mw.min() and x <= Mw.max():\n",
        "      W.append(y/x/sigmaH)\n",
        "      H.append(y)\n",
        "\n",
        "  for i in range(len(W)):\n",
        "    sum_Wi_Mi += W[i]/M[i]\n",
        "    sum_WiMi += W[i]*M[i]\n",
        "\n",
        "\n",
        "  Mn_tot = 1/(sum_Wi_Mi)\n",
        "  Mw_tot = sum_WiMi\n",
        "  PDI = Mw_tot / Mn_tot\n",
        "\n",
        "  print(f'LS(coarse, after regulation)-derived Conjugate Mn is {Mn_tot:.1f} Da, Mw is {Mw_tot:.1f} Da, PDI is {PDI:.2f}')\n",
        "predict_verification3(x_conjugate,y_conjugate)"
      ],
      "execution_count": 35,
      "outputs": [
        {
          "output_type": "stream",
          "text": [
            "LS(coarse, after regulation)-derived Conjugate Mn is 352016.0 Da, Mw is 624304.8 Da, PDI is 1.77\n"
          ],
          "name": "stdout"
        }
      ]
    },
    {
      "cell_type": "code",
      "metadata": {
        "colab": {
          "base_uri": "https://localhost:8080/"
        },
        "id": "6LUPMGhgQ_0J",
        "outputId": "a8c795d4-c994-4416-9225-9bd09c85cb66"
      },
      "source": [
        "x_conjugate = o1\n",
        "y_conjugate = m1\n",
        "def predict_verification3(Mw,baselined_intensity):\n",
        "  ##Module calculation\n",
        "  sigmaH = 0\n",
        "  W = []\n",
        "  M =[]\n",
        "  H =[]\n",
        "  sum_Wi_Mi = 0  \n",
        "  sum_WiMi = 0   \n",
        "\n",
        "  for x,y in zip(Mw, baselined_intensity):\n",
        "    if x >= Mw.min() and x <= Mw.max():\n",
        "      sigmaH += y\n",
        "      M.append(x)\n",
        "\n",
        "  for x,y in zip(Mw, baselined_intensity):\n",
        "    if x >= Mw.min() and x <= Mw.max():\n",
        "      W.append(y/sigmaH)\n",
        "      H.append(y)\n",
        "\n",
        "  for i in range(len(W)):\n",
        "    sum_Wi_Mi += W[i]/M[i]\n",
        "    sum_WiMi += W[i]*M[i]\n",
        "\n",
        "\n",
        "  Mn_tot = 1/(sum_Wi_Mi)\n",
        "  Mw_tot = sum_WiMi\n",
        "  PDI = Mw_tot / Mn_tot\n",
        "\n",
        "  print(f'RI(coarse)-derived Conjugate Mn is {Mn_tot:.1f} Da, Mw is {Mw_tot:.1f} Da, PDI is {PDI:.2f}')\n",
        "predict_verification3(x_conjugate,y_conjugate)\n"
      ],
      "execution_count": 36,
      "outputs": [
        {
          "output_type": "stream",
          "text": [
            "RI(coarse)-derived Conjugate Mn is 328889.9 Da, Mw is 556866.4 Da, PDI is 1.69\n"
          ],
          "name": "stdout"
        }
      ]
    },
    {
      "cell_type": "code",
      "metadata": {
        "colab": {
          "base_uri": "https://localhost:8080/"
        },
        "id": "ljxlu2uUQ_2M",
        "outputId": "dca41259-0912-413f-e93e-568431faee0d"
      },
      "source": [
        "x_conjugate = o2\n",
        "y_conjugate = m2\n",
        "def predict_verification3(Mw,baselined_intensity):\n",
        "  ##Module calculation\n",
        "  sigmaH = 0\n",
        "  W = []\n",
        "  M =[]\n",
        "  H =[]\n",
        "  sum_Wi_Mi = 0  \n",
        "  sum_WiMi = 0   \n",
        "\n",
        "  for x,y in zip(Mw, baselined_intensity):\n",
        "    if x >= Mw.min() and x <= Mw.max():\n",
        "      sigmaH += y/x\n",
        "      M.append(x)\n",
        "\n",
        "  for x,y in zip(Mw, baselined_intensity):\n",
        "    if x >= Mw.min() and x <= Mw.max():\n",
        "      W.append(y/x/sigmaH)\n",
        "      H.append(y)\n",
        "\n",
        "  for i in range(len(W)):\n",
        "    sum_Wi_Mi += W[i]/M[i]\n",
        "    sum_WiMi += W[i]*M[i]\n",
        "\n",
        "\n",
        "  Mn_tot = 1/(sum_Wi_Mi)\n",
        "  Mw_tot = sum_WiMi\n",
        "  PDI = Mw_tot / Mn_tot\n",
        "\n",
        "  print(f'LS(coarse)-derived Conjugate Mn is {Mn_tot:.1f} Da, Mw is {Mw_tot:.1f} Da, PDI is {PDI:.2f}')\n",
        "predict_verification3(x_conjugate,y_conjugate)\n"
      ],
      "execution_count": 37,
      "outputs": [
        {
          "output_type": "stream",
          "text": [
            "LS(coarse)-derived Conjugate Mn is 315467.6 Da, Mw is 586449.8 Da, PDI is 1.86\n"
          ],
          "name": "stdout"
        }
      ]
    },
    {
      "cell_type": "code",
      "metadata": {
        "id": "oQ9d-0Fxdlzy"
      },
      "source": [
        ""
      ],
      "execution_count": 37,
      "outputs": []
    }
  ]
}