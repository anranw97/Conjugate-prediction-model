{
  "nbformat": 4,
  "nbformat_minor": 0,
  "metadata": {
    "colab": {
      "name": "Conjugate prediction L-12.ipynb",
      "provenance": [],
      "collapsed_sections": [],
      "machine_shape": "hm"
    },
    "kernelspec": {
      "name": "python3",
      "display_name": "Python 3"
    }
  },
  "cells": [
    {
      "cell_type": "code",
      "metadata": {
        "id": "R9lZs0B_iHSJ",
        "colab": {
          "base_uri": "https://localhost:8080/"
        },
        "outputId": "6d450c77-7c36-46e0-86bf-f292fa9ca956"
      },
      "source": [
        "import numpy as np\n",
        "import matplotlib.pyplot as plt\n",
        "import pandas as pd #data reading\n",
        "!pip install peakutils\n",
        "import peakutils as peakutils #peakutils.baseline\n",
        "import math\n",
        "import csv"
      ],
      "execution_count": 1,
      "outputs": [
        {
          "output_type": "stream",
          "text": [
            "Requirement already satisfied: peakutils in /usr/local/lib/python3.6/dist-packages (1.3.3)\n",
            "Requirement already satisfied: numpy in /usr/local/lib/python3.6/dist-packages (from peakutils) (1.18.5)\n",
            "Requirement already satisfied: scipy in /usr/local/lib/python3.6/dist-packages (from peakutils) (1.4.1)\n"
          ],
          "name": "stdout"
        }
      ]
    },
    {
      "cell_type": "code",
      "metadata": {
        "id": "SUOcvEYLCFPw"
      },
      "source": [
        "Mn_tot,PDI,Mw_mono = 34300,1.8,229.28\n",
        "Mw_initiator, Mw_protein, degree_of_initiator = 220,25367,20#>20 too much load\n",
        "#or 23=12*2-1 or you can adjust yourself becuase inthis case 21-23 may not help much due to low weight fraction\n",
        "Number_polymer = 100 #if you want less noisy/fewer knots for prediction distribution and unless it is less than 100 it will not influence value results\n",
        "step = 2 #directly relevant to calculation load, fewer than 20 is practical, 2 is fastest, no need to go up\n",
        "Smoothfactor = 1 #if you don't like knots at all, slice calculation interval to generate the combined\n",
        "min, max = 2000, 4e5\n",
        "min2, max2 = Mw_protein+min, Mw_protein+degree_of_initiator*max\n",
        "Mw_new = 10**(np.linspace(np.log10(min), np.log10(max), Number_polymer))"
      ],
      "execution_count": 2,
      "outputs": []
    },
    {
      "cell_type": "code",
      "metadata": {
        "id": "i2fH7TfxK5Zv",
        "colab": {
          "base_uri": "https://localhost:8080/",
          "height": 279
        },
        "outputId": "6e925775-7417-4b4a-f9ca-dcc8faf326d7"
      },
      "source": [
        "with open('/content/drive/My Drive/Master Research/GPC Calculation Model/data/All data/L-12 MALDI.csv', encoding=\"utf-8\") as f:\n",
        "    #pass\n",
        "    data = np.loadtxt(f, delimiter = \",\",skiprows=1)\n",
        "    x2 = data[:, 0]\n",
        "    y2 = data[:, 1]\n",
        "base = peakutils.baseline(np.asarray(y2),deg = 1, max_it = 100000, tol = .0001)#deg, max_it, tol can be customized\n",
        "y2_baselined = y2 - base\n",
        "y2 = y2_baselined/np.sum(y2_baselined)\n",
        "plt.plot(x2,y2,'.')\n",
        "plt.xlabel('Molar mass (g/mol)')\n",
        "plt.ylabel('Normalized intensity')\n",
        "# plt.title('Protein MALDI data reading')\n",
        "plt.axvline(25367,color='g')\n",
        "for i in range(degree_of_initiator):\n",
        "  plt.axvline(25367+220*(i+1),color='coral',ls='--')\n"
      ],
      "execution_count": 3,
      "outputs": [
        {
          "output_type": "display_data",
          "data": {
            "image/png": "[encoded data removed]",
            "text/plain": [
              "<Figure size 432x288 with 1 Axes>"
            ]
          },
          "metadata": {
            "tags": [],
            "needs_background": "light"
          }
        }
      ]
    },
    {
      "cell_type": "code",
      "metadata": {
        "id": "wty3IoOBN8A_"
      },
      "source": [
        "a,d = Mw_protein, Mw_initiator\n",
        "\n",
        "x = x2\n",
        "y=y2\n",
        "x = np.array(x)\n",
        "y = np.array(y)\n",
        "\n",
        "sample_step_x_p = []\n",
        "sample_step_y_p = []\n",
        "\n",
        "Length = d\n",
        "for i in range(int(a), int(a+degree_of_initiator*d), Length):\n",
        "    begin = i\n",
        "    end = i + Length\n",
        "    candidate = []\n",
        "    candidate = np.array(candidate)\n",
        "    candidate = candidate.astype('int64')\n",
        "    for j in range(0,x.size):\n",
        "        if (x[j] <= end) and (x[j] >= begin):\n",
        "            #print(x[j])\n",
        "            candidate = np.append(candidate, int(j))\n",
        "    #print(candidate)\n",
        "    if(candidate.size == 0):\n",
        "        continue\n",
        "    x_sample = x[candidate]\n",
        "    y_sample = y[candidate]\n",
        "    x_ave = np.mean(x_sample)\n",
        "    y_ave = np.mean(y_sample)\n",
        "    sample_step_x_p = np.append(sample_step_x_p, x_ave)\n",
        "    sample_step_y_p = np.append(sample_step_y_p, y_ave)\n",
        "sample_step_x_p=sample_step_x_p\n",
        "sample_step_y_p=sample_step_y_p/np.sum(sample_step_y_p)"
      ],
      "execution_count": 4,
      "outputs": []
    },
    {
      "cell_type": "code",
      "metadata": {
        "id": "IOjuLhTdirQ9"
      },
      "source": [
        "Mw_tot = Mn_tot*PDI\n",
        "M0 = (Mn_tot*Mw_tot)**0.5\n",
        "sigma2 = np.sqrt(np.log(Mw_tot/Mn_tot))\n",
        "def LN(x, x0, sigma):\n",
        "    return 1/sigma/np.sqrt(2*np.pi)/x* np.exp(-1/2/(sigma**2)*((np.log(((x/x0)))**2)))"
      ],
      "execution_count": 5,
      "outputs": []
    },
    {
      "cell_type": "code",
      "metadata": {
        "id": "tvG68TTanoi9"
      },
      "source": [
        "x1_2_new=Mw_new\n",
        "# y1_2_new= LN(Mw_new,M0,sigma2)/np.log10(np.e)*Mw_new###attention!!!\n",
        "y1_2_new= LN(Mw_new,M0,sigma2)###attention!!!"
      ],
      "execution_count": 6,
      "outputs": []
    },
    {
      "cell_type": "code",
      "metadata": {
        "id": "ptnEQtEwCmT4",
        "colab": {
          "base_uri": "https://localhost:8080/"
        },
        "outputId": "aa3650db-aaee-4add-8079-a02d9241391c"
      },
      "source": [
        "x1_2 = [x1_2_new[i:i+step] for i in range(0,len(x1_2_new),step)]\n",
        "y1_2 = [y1_2_new[i:i+step] for i in range(0,len(x1_2_new),step)]\n",
        "len(x1_2)"
      ],
      "execution_count": 7,
      "outputs": [
        {
          "output_type": "execute_result",
          "data": {
            "text/plain": [
              "50"
            ]
          },
          "metadata": {
            "tags": []
          },
          "execution_count": 7
        }
      ]
    },
    {
      "cell_type": "code",
      "metadata": {
        "id": "i_fTMx4RlGBP"
      },
      "source": [
        "N_2,P_2=[],[]"
      ],
      "execution_count": 8,
      "outputs": []
    },
    {
      "cell_type": "code",
      "metadata": {
        "id": "IgiRCdlp4VgM"
      },
      "source": [
        "N__1, N__2, N__3, N__4, N__5, N__6, N__7, N__8, N__9, N__10, N__11, N__12, N__13, N__14, N__15, N__16, N__17, N__18, N__19, N__20= [], [], [], [], [], [], [], [], [], [], [], [], [], [], [], [], [], [], [], []\n",
        "P__1, P__2, P__3, P__4, P__5, P__6, P__7, P__8, P__9, P__10, P__11, P__12, P__13, P__14, P__15, P__16, P__17, P__18, P__19, P__20= [], [], [], [], [], [], [], [], [], [], [], [], [], [], [], [], [], [], [], []"
      ],
      "execution_count": 9,
      "outputs": []
    },
    {
      "cell_type": "code",
      "metadata": {
        "id": "yViDUtAOf61G"
      },
      "source": [
        "for ii in range(len(x1_2)-1):\n",
        "    x1 = x1_2[ii]\n",
        "    y1 = y1_2[ii]\n",
        "    N1, N2, N3, N4, N5, N6, N7, N8, N9, N10, N11, N12, N13, N14, N15, N16, N17, N18, N19, N20= [], [], [], [], [], [], [], [], [], [], [], [], [], [], [], [], [], [], [], []\n",
        "    P1, P2, P3, P4, P5, P6, P7, P8, P9, P10, P11, P12, P13, P14, P15, P16, P17, P18, P19, P20= [], [], [], [], [], [], [], [], [], [], [], [], [], [], [], [], [], [], [], []\n",
        "    for i in range(step):\n",
        "        N1.append(x1[i] + a)\n",
        "        P1.append(y1[i] * sample_step_y_p[0])\n",
        "    N__1.extend(N1)\n",
        "    P__1.extend(P1)      \n",
        "    for i in range(step):\n",
        "        for j in range(step):\n",
        "            N2.append(N1[i] + x1[j])\n",
        "            P2.append((P1[i] + y1[j]) * sample_step_y_p[1])\n",
        "    N__2.extend(N2)\n",
        "    P__2.extend(P2)              \n",
        "    for i in range(step ** 2):\n",
        "        for j in range(step):\n",
        "            N3.append(N2[i] + x1[j])\n",
        "            P3.append((P2[i] + y1[j]) * sample_step_y_p[2])\n",
        "    N__3.extend(N3)\n",
        "    P__3.extend(P3)  \n",
        "    for i in range(step ** 3):\n",
        "        for j in range(step):\n",
        "            N4.append(N3[i] + x1[j])\n",
        "            P4.append((P3[i] + y1[j]) * sample_step_y_p[3])\n",
        "    N__4.extend(N4)\n",
        "    P__4.extend(P4)  \n",
        "    for i in range(step ** 4):\n",
        "        for j in range(step):\n",
        "            N5.append(N4[i] + x1[j])\n",
        "            P5.append((P4[i] + y1[j]) * sample_step_y_p[4])\n",
        "    N__5.extend(N5)\n",
        "    P__5.extend(P5)      \n",
        "    for i in range(step ** 5):\n",
        "        for j in range(step):\n",
        "            N6.append(N5[i] + x1[j])\n",
        "            P6.append((P5[i] + y1[j]) * sample_step_y_p[5])\n",
        "    N__6.extend(N6)\n",
        "    P__6.extend(P6)      \n",
        "    for i in range(step ** 6):\n",
        "        for j in range(step):\n",
        "            N7.append(N6[i] + x1[j])\n",
        "            P7.append((P6[i] + y1[j]) * sample_step_y_p[6])\n",
        "    N__7.extend(N7)\n",
        "    P__7.extend(P7)  \n",
        "    for i in range(step ** 7):\n",
        "        for j in range(step):\n",
        "            N8.append(N7[i] + x1[j])\n",
        "            P8.append((P7[i] + y1[j]) * sample_step_y_p[7])\n",
        "    N__8.extend(N8)\n",
        "    P__8.extend(P8)  \n",
        "    for i in range(step ** 8):\n",
        "        for j in range(step):\n",
        "            N9.append(N8[i] + x1[j])\n",
        "            P9.append((P8[i] + y1[j]) * sample_step_y_p[8])\n",
        "    N__9.extend(N9)\n",
        "    P__9.extend(P9)  \n",
        "    for i in range(step ** 9):\n",
        "        for j in range(step):\n",
        "            N10.append(N9[i] + x1[j])\n",
        "            P10.append((P9[i] + y1[j]) * sample_step_y_p[9])\n",
        "    N__10.extend(N10)\n",
        "    P__10.extend(P10) \n",
        "    for i in range(step ** 10):\n",
        "        for j in range(step):\n",
        "            N11.append(N10[i] + x1[j])\n",
        "            P11.append((P10[i] + y1[j]) * sample_step_y_p[10])    \n",
        "    N__11.extend(N11)\n",
        "    P__11.extend(P11) \n",
        "    for i in range(step ** 11):\n",
        "        for j in range(step):\n",
        "            N12.append(N11[i] + x1[j])\n",
        "            P12.append((P11[i] + y1[j]) * sample_step_y_p[11])\n",
        "    N__12.extend(N12)\n",
        "    P__12.extend(P12) \n",
        "    for i in range(step ** 12):\n",
        "        for j in range(step):\n",
        "            N13.append(N12[i] + x1[j])\n",
        "            P13.append((P12[i] + y1[j]) * sample_step_y_p[12])\n",
        "    N__13.extend(N13)\n",
        "    P__13.extend(P13)   \n",
        "    for i in range(step ** 13):\n",
        "        for j in range(step):\n",
        "            N14.append(N13[i] + x1[j])\n",
        "            P14.append((P13[i] + y1[j]) * sample_step_y_p[13])\n",
        "    N__14.extend(N14)\n",
        "    P__14.extend(P14)\n",
        "    for i in range(step ** 14):\n",
        "        for j in range(step):\n",
        "            N15.append(N14[i] + x1[j])\n",
        "            P15.append((P14[i] + y1[j]) * sample_step_y_p[14])\n",
        "    N__15.extend(N15)\n",
        "    P__15.extend(P15)\n",
        "    for i in range(step ** 15):\n",
        "        for j in range(step):\n",
        "            N16.append(N15[i] + x1[j])\n",
        "            P16.append((P15[i] + y1[j]) * sample_step_y_p[15])\n",
        "    N__16.extend(N16)\n",
        "    P__16.extend(P16)\n",
        "    for i in range(step ** 16):\n",
        "        for j in range(step):\n",
        "            N17.append(N16[i] + x1[j])\n",
        "            P17.append((P16[i] + y1[j]) * sample_step_y_p[16])\n",
        "    N__17.extend(N17)\n",
        "    P__17.extend(P17)\n",
        "    for i in range(step ** 17):\n",
        "        for j in range(step):\n",
        "            N18.append(N17[i] + x1[j])\n",
        "            P18.append((P17[i] + y1[j]) * sample_step_y_p[17])\n",
        "    N__18.extend(N18)\n",
        "    P__18.extend(P18)\n",
        "    for i in range(step ** 18):\n",
        "        for j in range(step):\n",
        "            N19.append(N18[i] + x1[j])\n",
        "            P19.append((P18[i] + y1[j]) * sample_step_y_p[18])\n",
        "    N__19.extend(N19)\n",
        "    P__19.extend(P19)\n",
        "    for i in range(step ** 19):\n",
        "        for j in range(step):\n",
        "            N20.append(N19[i] + x1[j])\n",
        "            P20.append((P19[i] + y1[j]) * sample_step_y_p[19])   \n",
        "    N__20.extend(N20)\n",
        "    P__20.extend(P20)\n",
        "       \n",
        "    N_2_proxy = np.concatenate((N1, N2, N3, N4, N5, N6, N7, N8, N9, N10, N11, N12, N13, N14, N15, N16, N17, N18, N19, N20),axis=0)\n",
        "    P_2_proxy = np.concatenate((P1, P2, P3, P4, P5, P6, P7, P8, P9, P10, P11, P12, P13, P14, P15, P16, P17, P18, P19, P20),axis=0)\n",
        "    N_2 = np.append(N_2, N_2_proxy)\n",
        "    P_2 = np.append(P_2, P_2_proxy)\n"
      ],
      "execution_count": 10,
      "outputs": []
    },
    {
      "cell_type": "code",
      "metadata": {
        "colab": {
          "base_uri": "https://localhost:8080/",
          "height": 311
        },
        "id": "bHNOMIvrqbNh",
        "outputId": "d1172acb-c88d-46d1-c5cb-6d185e6b7b81"
      },
      "source": [
        "fig, ax = plt.subplots()\n",
        "ax.semilogx(N__1,P__1,'.')\n",
        "plt.plot(N__2,P__2,'.')\n",
        "plt.plot(N__3,P__3,'.')\n",
        "plt.plot(N__4,P__4,'.')\n",
        "plt.plot(N__5,P__5,'.')\n",
        "plt.plot(N__6,P__6,'.')\n",
        "plt.plot(N__7,P__7,'.')\n",
        "plt.plot(N__8,P__8,'.')\n",
        "plt.plot(N__9,P__9,'.')\n",
        "plt.plot(N__10,P__10,'.')\n",
        "plt.plot(N__11,P__11,'.')\n",
        "plt.plot(N__12,P__12,'.')\n",
        "plt.plot(N__13,P__13,'.')\n",
        "plt.plot(N__14,P__14,'.')\n",
        "plt.plot(N__15,P__15,'.')\n",
        "plt.plot(N__16,P__16,'.')\n",
        "plt.plot(N__17,P__17,'.')\n",
        "plt.plot(N__18,P__18,'.')\n",
        "plt.plot(N__19,P__19,'.')\n",
        "plt.plot(N__20,P__20,'.')\n",
        "\n",
        "name=[]\n",
        "for i in range(degree_of_initiator):\n",
        "  name.append(f'P{i+1}')\n",
        "\n",
        "plt.xlabel('Molecular weight (g/mol)')\n",
        "plt.ylabel('Predicted response')\n",
        "plt.legend(name,loc='upper right',prop={'size': 6})"
      ],
      "execution_count": 11,
      "outputs": [
        {
          "output_type": "execute_result",
          "data": {
            "text/plain": [
              "<matplotlib.legend.Legend at 0x7f360c1c4438>"
            ]
          },
          "metadata": {
            "tags": []
          },
          "execution_count": 11
        },
        {
          "output_type": "display_data",
          "data": {
            "image/png": "[encoded data removed]",
            "text/plain": [
              "<Figure size 432x288 with 1 Axes>"
            ]
          },
          "metadata": {
            "tags": [],
            "needs_background": "light"
          }
        }
      ]
    },
    {
      "cell_type": "code",
      "metadata": {
        "id": "VPRSQzoY_yVH"
      },
      "source": [
        "order = np.argsort(N_2)"
      ],
      "execution_count": 12,
      "outputs": []
    },
    {
      "cell_type": "code",
      "metadata": {
        "id": "pxcQ1AMKAhIu"
      },
      "source": [
        "N22=[]\n",
        "P22=[]\n",
        "for i in order:\n",
        "  N22.append(N_2[i])\n",
        "  P22.append(P_2[i])\n"
      ],
      "execution_count": 13,
      "outputs": []
    },
    {
      "cell_type": "code",
      "metadata": {
        "id": "dnW4VOa4tGRz"
      },
      "source": [
        "from itertools import groupby\n",
        "n2=[]\n",
        "# s=0\n",
        "# i,j=0,0\n",
        "p2=[]\n",
        "index=[]\n",
        "for k, g in groupby(N22, key=lambda x: x//(Mw_mono*Smoothfactor)):\n",
        "  index.append(len(list(g)))\n",
        "for k, g in groupby(N22, key=lambda x: x//(Mw_mono*Smoothfactor)):\n",
        "  n2.append(np.mean(list(g)))  \n",
        "j=0\n",
        "\n",
        "for i in index:\n",
        "  s=np.sum(P22[j:j+i])\n",
        "  j+=i\n",
        "  p2.append(s)\n"
      ],
      "execution_count": 14,
      "outputs": []
    },
    {
      "cell_type": "code",
      "metadata": {
        "colab": {
          "base_uri": "https://localhost:8080/",
          "height": 301
        },
        "id": "wdFDv1lXuHv7",
        "outputId": "94a57a2f-a638-4d1d-d1ff-29c1e4fe3031"
      },
      "source": [
        "fig, ax = plt.subplots()\r\n",
        "ax.semilogx(n2,p2)\r\n",
        "plt.xlabel('Molecular weight (g/mol)')\r\n",
        "plt.ylabel('Normalized predicted response')"
      ],
      "execution_count": 15,
      "outputs": [
        {
          "output_type": "execute_result",
          "data": {
            "text/plain": [
              "Text(0, 0.5, 'Normalized predicted response')"
            ]
          },
          "metadata": {
            "tags": []
          },
          "execution_count": 15
        },
        {
          "output_type": "display_data",
          "data": {
            "image/png": "[encoded data removed]",
            "text/plain": [
              "<Figure size 432x288 with 1 Axes>"
            ]
          },
          "metadata": {
            "tags": [],
            "needs_background": "light"
          }
        }
      ]
    },
    {
      "cell_type": "code",
      "metadata": {
        "id": "VHjKewipPBzD",
        "colab": {
          "base_uri": "https://localhost:8080/"
        },
        "outputId": "48285402-e2ce-470e-91ea-9f75a1547cbc"
      },
      "source": [
        "x_conjugate = n2\n",
        "y_conjugate = p2\n",
        "def predict_verification3(Mw,baselined_intensity):\n",
        "  ##Module calculation\n",
        "  sigmaH = 0\n",
        "  W = []\n",
        "  M =[]\n",
        "  H =[]\n",
        "  sum_Wi_Mi = 0  \n",
        "  sum_WiMi = 0   \n",
        "\n",
        "  for x,y in zip(Mw, baselined_intensity):\n",
        "    if x >= np.min(Mw) and x <= np.max(Mw):\n",
        "      sigmaH += y\n",
        "      M.append(x)\n",
        "\n",
        "  for x,y in zip(Mw, baselined_intensity):\n",
        "    if x >= np.min(Mw) and x <= np.max(Mw):\n",
        "      W.append(y/sigmaH)\n",
        "      H.append(y)\n",
        "\n",
        "  for i in range(len(W)):\n",
        "    sum_Wi_Mi += W[i]/M[i]\n",
        "    sum_WiMi += W[i]*M[i]\n",
        "\n",
        "\n",
        "  Mn_tot = 1/(sum_Wi_Mi)\n",
        "  Mw_tot = sum_WiMi\n",
        "  PDI = Mw_tot / Mn_tot\n",
        "\n",
        "  print(f'Predicted Conjugate Mn is {Mn_tot:.1f} Da, Mw is {Mw_tot:.1f} Da, PDI is {PDI:.2f}')\n",
        "predict_verification3(x_conjugate,y_conjugate)\n"
      ],
      "execution_count": 16,
      "outputs": [
        {
          "output_type": "stream",
          "text": [
            "Predicted Conjugate Mn is 391650.9 Da, Mw is 657489.0 Da, PDI is 1.68\n"
          ],
          "name": "stdout"
        }
      ]
    },
    {
      "cell_type": "code",
      "metadata": {
        "colab": {
          "base_uri": "https://localhost:8080/"
        },
        "id": "rq3MpC469xxx",
        "outputId": "1b674b5e-1115-46ae-b459-0b4740c7ba19"
      },
      "source": [
        "x_conjugate = n2\r\n",
        "y_conjugate = p2\r\n",
        "def predict_verification3(Mw,baselined_intensity):\r\n",
        "  ##Module calculation\r\n",
        "  sigmaH = 0\r\n",
        "  W = []\r\n",
        "  M =[]\r\n",
        "  H =[]\r\n",
        "  sum_Wi_Mi = 0  \r\n",
        "  sum_WiMi = 0   \r\n",
        "\r\n",
        "  for x,y in zip(Mw, baselined_intensity):\r\n",
        "    if x >= np.min(Mw) and x <= np.max(Mw):\r\n",
        "      sigmaH += y\r\n",
        "      M.append(x)\r\n",
        "\r\n",
        "  for x,y in zip(Mw, baselined_intensity):\r\n",
        "    if x >= np.min(Mw) and x <= np.max(Mw):\r\n",
        "      W.append(y/sigmaH)\r\n",
        "      H.append(y)\r\n",
        "\r\n",
        "  for i in range(len(W)):\r\n",
        "    sum_Wi_Mi += W[i]/M[i]\r\n",
        "    sum_WiMi += W[i]*M[i]\r\n",
        "\r\n",
        "\r\n",
        "  Mn_tot = 1/(sum_Wi_Mi)\r\n",
        "  Mw_tot = sum_WiMi\r\n",
        "  PDI = Mw_tot / Mn_tot\r\n",
        "\r\n",
        "  print(f'Predicted Conjugate Mn is {Mn_tot:.1f} Da, Mw is {Mw_tot:.1f} Da, PDI is {PDI:.2f}')\r\n",
        "predict_verification3(x_conjugate,y_conjugate)\r\n"
      ],
      "execution_count": 17,
      "outputs": [
        {
          "output_type": "stream",
          "text": [
            "Predicted Conjugate Mn is 391650.9 Da, Mw is 657489.0 Da, PDI is 1.68\n"
          ],
          "name": "stdout"
        }
      ]
    },
    {
      "cell_type": "code",
      "metadata": {
        "colab": {
          "base_uri": "https://localhost:8080/",
          "height": 301
        },
        "id": "uys51hJ1KMBh",
        "outputId": "c147f30e-406d-46fa-f3fb-0c07687c2281"
      },
      "source": [
        "with open('/content/drive/My Drive/Master Research/GPC Calculation Model/data/All data/L-12 MALS-RI(dense).csv', encoding=\"utf-8\") as f:\n",
        "    #pass\n",
        "    data2 = np.loadtxt(f, delimiter = \",\")\n",
        "    m1 = data2[:, 1]\n",
        "    o1 = data2[:, 2]#3 corresponds to MM2\n",
        "with open('/content/drive/MyDrive/Master Research/GPC Calculation Model/data/All data/L-12 MALS-LS(dense).csv', encoding=\"utf-8\") as f:\n",
        "    #pass\n",
        "    data3 = np.loadtxt(f, delimiter = \",\")\n",
        "    m2 = data3[:, 1]\n",
        "    o2 = data3[:, 2]   \n",
        "fig, ax = plt.subplots()\n",
        "ax.semilogx(o1,m1/np.max(m1),'--')\n",
        "plt.semilogx(o2,m2/np.max(m2),'--')\n",
        "plt.semilogx(n2,p2/np.max(p2),'-')\n",
        "plt.legend(['RI','LS','Prediction'])\n",
        "plt.xlabel('Molecular weight (g/mol)')\n",
        "plt.ylabel('Relative response (%)')\n",
        "# plt.title('L-12 comparison between experimental(dense) and prediction results')\n"
      ],
      "execution_count": 36,
      "outputs": [
        {
          "output_type": "execute_result",
          "data": {
            "text/plain": [
              "Text(0, 0.5, 'Relative response (%)')"
            ]
          },
          "metadata": {
            "tags": []
          },
          "execution_count": 36
        },
        {
          "output_type": "display_data",
          "data": {
            "image/png": "[encoded data removed]",
            "text/plain": [
              "<Figure size 432x288 with 1 Axes>"
            ]
          },
          "metadata": {
            "tags": [],
            "needs_background": "light"
          }
        }
      ]
    },
    {
      "cell_type": "code",
      "metadata": {
        "id": "422V40q5r39q"
      },
      "source": [
        "#datapoint correction, time interval is equal\n",
        "t = np.linspace(5,40,360)\n",
        "xnew = 10**(0.0526*t+4.5644)"
      ],
      "execution_count": 19,
      "outputs": []
    },
    {
      "cell_type": "code",
      "metadata": {
        "colab": {
          "base_uri": "https://localhost:8080/",
          "height": 273
        },
        "id": "7Q98dXJUr7jX",
        "outputId": "2de89de8-c664-4297-859b-d5c0d7b270cd"
      },
      "source": [
        "from scipy import interpolate\n",
        "x=o1\n",
        "y=m1\n",
        "fig, ax = plt.subplots()\n",
        "ax.semilogx(x,y,'ro')\n",
        "f=interpolate.interp1d(x,y,kind='linear',fill_value=\"extrapolate\")\n",
        "ynew=f(xnew)\n",
        "plt.plot(xnew,ynew,'b--')\n",
        "plt.legend(['Data extraction(dense) from experimental RI fractogram','After regulation'])\n",
        "# plt.xlim([0,1e6])\n",
        "plt.ylim([0,0.06])\n",
        "plt.show()"
      ],
      "execution_count": 20,
      "outputs": [
        {
          "output_type": "display_data",
          "data": {
            "image/png": "[encoded data removed]",
            "text/plain": [
              "<Figure size 432x288 with 1 Axes>"
            ]
          },
          "metadata": {
            "tags": [],
            "needs_background": "light"
          }
        }
      ]
    },
    {
      "cell_type": "code",
      "metadata": {
        "colab": {
          "base_uri": "https://localhost:8080/"
        },
        "id": "6dNNvCBCr9Xl",
        "outputId": "99c8b7f3-5b61-4464-87d3-1f318d2fd43a"
      },
      "source": [
        "x_conjugate = xnew\n",
        "y_conjugate = ynew\n",
        "def predict_verification3(Mw,baselined_intensity):\n",
        "  ##Module calculation\n",
        "  sigmaH = 0\n",
        "  W = []\n",
        "  M =[]\n",
        "  H =[]\n",
        "  sum_Wi_Mi = 0  \n",
        "  sum_WiMi = 0   \n",
        "\n",
        "  for x,y in zip(Mw, baselined_intensity):\n",
        "    if x >= Mw.min() and x <= Mw.max():\n",
        "      sigmaH += y\n",
        "      M.append(x)\n",
        "\n",
        "  for x,y in zip(Mw, baselined_intensity):\n",
        "    if x >= Mw.min() and x <= Mw.max():\n",
        "      W.append(y/sigmaH)\n",
        "      H.append(y)\n",
        "\n",
        "  for i in range(len(W)):\n",
        "    sum_Wi_Mi += W[i]/M[i]\n",
        "    sum_WiMi += W[i]*M[i]\n",
        "\n",
        "\n",
        "  Mn_tot = 1/(sum_Wi_Mi)\n",
        "  Mw_tot = sum_WiMi\n",
        "  PDI = Mw_tot / Mn_tot\n",
        "\n",
        "  print(f'RI(dense, after regulation)-derived Conjugate Mn is {Mn_tot:.1f} Da, Mw is {Mw_tot:.1f} Da, PDI is {PDI:.2f}')\n",
        "predict_verification3(x_conjugate,y_conjugate)\n"
      ],
      "execution_count": 21,
      "outputs": [
        {
          "output_type": "stream",
          "text": [
            "RI(dense, after regulation)-derived Conjugate Mn is 401683.4 Da, Mw is 708867.8 Da, PDI is 1.76\n"
          ],
          "name": "stdout"
        }
      ]
    },
    {
      "cell_type": "code",
      "metadata": {
        "id": "XjDUnutFsAOu"
      },
      "source": [
        "#datapoint correction, time interval is equal\n",
        "#notice in this case, retention range is different from RI. This is also the reason why LS/RI/Mw constant verification cannot be conducted\n",
        "t = np.linspace(5,55,510)\n",
        "xnew = 10**(0.0526*t+4.5644)"
      ],
      "execution_count": 22,
      "outputs": []
    },
    {
      "cell_type": "code",
      "metadata": {
        "colab": {
          "base_uri": "https://localhost:8080/",
          "height": 273
        },
        "id": "PKaVR_ngsHWN",
        "outputId": "d2281540-deab-4574-c35b-c486b7a97d4b"
      },
      "source": [
        "from scipy import interpolate\n",
        "x=o2\n",
        "y=m2\n",
        "fig, ax = plt.subplots()\n",
        "ax.semilogx(x,y,'ro')\n",
        "f=interpolate.interp1d(x,y,kind='linear',fill_value=\"extrapolate\")\n",
        "ynew1=f(xnew)\n",
        "plt.plot(xnew,ynew1,'b--')\n",
        "plt.legend(['Data extraction from experimental LS fractogram','After regulation'])\n",
        "# plt.xlim([0,1e6])\n",
        "plt.ylim([0,0.3])\n",
        "plt.show()"
      ],
      "execution_count": 23,
      "outputs": [
        {
          "output_type": "display_data",
          "data": {
            "image/png": "[encoded data removed]",
            "text/plain": [
              "<Figure size 432x288 with 1 Axes>"
            ]
          },
          "metadata": {
            "tags": [],
            "needs_background": "light"
          }
        }
      ]
    },
    {
      "cell_type": "code",
      "metadata": {
        "colab": {
          "base_uri": "https://localhost:8080/"
        },
        "id": "zcyj9iQnsKZI",
        "outputId": "a9c09559-6c79-4a06-8892-c8e7ee5e3a27"
      },
      "source": [
        "x_conjugate = xnew\n",
        "y_conjugate = ynew1\n",
        "def predict_verification3(Mw,baselined_intensity):\n",
        "  ##Module calculation\n",
        "  sigmaH = 0\n",
        "  W = []\n",
        "  M =[]\n",
        "  H =[]\n",
        "  sum_Wi_Mi = 0  \n",
        "  sum_WiMi = 0   \n",
        "\n",
        "  for x,y in zip(Mw, baselined_intensity):\n",
        "    if x >= Mw.min() and x <= Mw.max():\n",
        "      sigmaH += y/x\n",
        "      M.append(x)\n",
        "\n",
        "  for x,y in zip(Mw, baselined_intensity):\n",
        "    if x >= Mw.min() and x <= Mw.max():\n",
        "      W.append(y/x/sigmaH)\n",
        "      H.append(y)\n",
        "\n",
        "  for i in range(len(W)):\n",
        "    sum_Wi_Mi += W[i]/M[i]\n",
        "    sum_WiMi += W[i]*M[i]\n",
        "\n",
        "\n",
        "  Mn_tot = 1/(sum_Wi_Mi)\n",
        "  Mw_tot = sum_WiMi\n",
        "  PDI = Mw_tot / Mn_tot\n",
        "\n",
        "  print(f'LS(dense,after regulation)-derived Conjugate Mn is {Mn_tot:.1f} Da, Mw is {Mw_tot:.1f} Da, PDI is {PDI:.2f}')\n",
        "predict_verification3(x_conjugate,y_conjugate)\n"
      ],
      "execution_count": 24,
      "outputs": [
        {
          "output_type": "stream",
          "text": [
            "LS(dense,after regulation)-derived Conjugate Mn is 449566.9 Da, Mw is 832639.2 Da, PDI is 1.85\n"
          ],
          "name": "stdout"
        }
      ]
    },
    {
      "cell_type": "code",
      "metadata": {
        "colab": {
          "base_uri": "https://localhost:8080/"
        },
        "id": "T2ssnC1sKQbd",
        "outputId": "1a835cd2-ff52-457a-dc43-23f7d577674a"
      },
      "source": [
        "x_conjugate = o1\n",
        "y_conjugate = m1\n",
        "def predict_verification3(Mw,baselined_intensity):\n",
        "  ##Module calculation\n",
        "  sigmaH = 0\n",
        "  W = []\n",
        "  M =[]\n",
        "  H =[]\n",
        "  sum_Wi_Mi = 0  \n",
        "  sum_WiMi = 0   \n",
        "\n",
        "  for x,y in zip(Mw, baselined_intensity):\n",
        "    if x >= Mw.min() and x <= Mw.max():\n",
        "      sigmaH += y\n",
        "      M.append(x)\n",
        "\n",
        "  for x,y in zip(Mw, baselined_intensity):\n",
        "    if x >= Mw.min() and x <= Mw.max():\n",
        "      W.append(y/sigmaH)\n",
        "      H.append(y)\n",
        "  for i in range(len(W)):\n",
        "    sum_Wi_Mi += W[i]/M[i]\n",
        "    sum_WiMi += W[i]*M[i]\n",
        "\n",
        "\n",
        "  Mn_tot = 1/(sum_Wi_Mi)\n",
        "  Mw_tot = sum_WiMi\n",
        "  PDI = Mw_tot / Mn_tot\n",
        "\n",
        "  print(f'RI(dense)-derived ConjugateMn is {Mn_tot:.1f} Da, Mw is {Mw_tot:.1f} Da, PDI is {PDI:.2f}')\n",
        "predict_verification3(x_conjugate,y_conjugate)\n"
      ],
      "execution_count": 25,
      "outputs": [
        {
          "output_type": "stream",
          "text": [
            "RI(dense)-derived ConjugateMn is 399634.4 Da, Mw is 722421.9 Da, PDI is 1.81\n"
          ],
          "name": "stdout"
        }
      ]
    },
    {
      "cell_type": "code",
      "metadata": {
        "colab": {
          "base_uri": "https://localhost:8080/"
        },
        "id": "cBqTPmVdKREP",
        "outputId": "414d1948-39ee-4158-d7ac-54cbd082a009"
      },
      "source": [
        "x_conjugate = o2\n",
        "y_conjugate = m2\n",
        "def predict_verification3(Mw,baselined_intensity):\n",
        "  ##Module calculation\n",
        "  sigmaH = 0\n",
        "  W = []\n",
        "  M =[]\n",
        "  H =[]\n",
        "  sum_Wi_Mi = 0  \n",
        "  sum_WiMi = 0   \n",
        "\n",
        "  for x,y in zip(Mw, baselined_intensity):\n",
        "    if x >= Mw.min() and x <= Mw.max():\n",
        "      sigmaH += y/x\n",
        "      M.append(x)\n",
        "\n",
        "  for x,y in zip(Mw, baselined_intensity):\n",
        "    if x >= Mw.min() and x <= Mw.max():\n",
        "      W.append(y/x/sigmaH)\n",
        "      H.append(y)\n",
        "\n",
        "  for i in range(len(W)):\n",
        "    sum_Wi_Mi += W[i]/M[i]\n",
        "    sum_WiMi += W[i]*M[i]\n",
        "\n",
        "\n",
        "  Mn_tot = 1/(sum_Wi_Mi)\n",
        "  Mw_tot = sum_WiMi\n",
        "  PDI = Mw_tot / Mn_tot\n",
        "\n",
        "  print(f'LS(dense)-derived Conjugate Mn is {Mn_tot:.1f} Da, Mw is {Mw_tot:.1f} Da, PDI is {PDI:.2f}')\n",
        "predict_verification3(x_conjugate,y_conjugate)\n"
      ],
      "execution_count": 26,
      "outputs": [
        {
          "output_type": "stream",
          "text": [
            "LS(dense)-derived Conjugate Mn is 454052.3 Da, Mw is 819957.4 Da, PDI is 1.81\n"
          ],
          "name": "stdout"
        }
      ]
    },
    {
      "cell_type": "code",
      "metadata": {
        "colab": {
          "base_uri": "https://localhost:8080/",
          "height": 303
        },
        "id": "P5d39n-mNQWz",
        "outputId": "922debdd-301e-4dd8-f18c-ae2ef5847cf9"
      },
      "source": [
        "with open('/content/drive/MyDrive/Master Research/GPC Calculation Model/data/All data/L-12 MALS-RI(coarse).csv', encoding=\"utf-8\") as f:\n",
        "    #pass\n",
        "    data2 = np.loadtxt(f, delimiter = \",\")\n",
        "    m1 = data2[:, 1]\n",
        "    o1 = data2[:, 2]\n",
        "with open('/content/drive/MyDrive/Master Research/GPC Calculation Model/data/All data/L-12 MALS-LS(coarse).csv', encoding=\"utf-8\") as f:\n",
        "    #pass\n",
        "    data2 = np.loadtxt(f, delimiter = \",\")\n",
        "    m2 = data2[:, 1]\n",
        "    o2 = data2[:, 2]\n",
        " \n",
        "fig, ax = plt.subplots()\n",
        "ax.semilogx(o1,m1/np.max(m1),'--')\n",
        "plt.semilogx(o2,m2/np.max(m2),'--')\n",
        "plt.semilogx(n2,p2/np.max(p2),'-')\n",
        "plt.legend(['RI','LS','prediction'])\n",
        "plt.title('L-12 comparison between experimental(coarse) and prediction results')"
      ],
      "execution_count": 27,
      "outputs": [
        {
          "output_type": "execute_result",
          "data": {
            "text/plain": [
              "Text(0.5, 1.0, 'L-12 comparison between experimental(coarse) and prediction results')"
            ]
          },
          "metadata": {
            "tags": []
          },
          "execution_count": 27
        },
        {
          "output_type": "display_data",
          "data": {
            "image/png": "[encoded data removed]",
            "text/plain": [
              "<Figure size 432x288 with 1 Axes>"
            ]
          },
          "metadata": {
            "tags": [],
            "needs_background": "light"
          }
        }
      ]
    },
    {
      "cell_type": "code",
      "metadata": {
        "id": "XQwYzxwLvk96"
      },
      "source": [
        "#datapoint correction, time interval is equal\n",
        "t = np.linspace(5,40,360)\n",
        "xnew = 10**(0.0526*t+4.5644)"
      ],
      "execution_count": 28,
      "outputs": []
    },
    {
      "cell_type": "code",
      "metadata": {
        "id": "c81mdfu1uogk",
        "colab": {
          "base_uri": "https://localhost:8080/",
          "height": 273
        },
        "outputId": "30da5528-7448-42b0-fceb-a3918f21820f"
      },
      "source": [
        "from scipy import interpolate\n",
        "x=o1\n",
        "y=m1\n",
        "fig, ax = plt.subplots()\n",
        "ax.semilogx(x,y,'ro')\n",
        "f=interpolate.interp1d(x,y,kind='linear',fill_value=\"extrapolate\")\n",
        "ynew=f(xnew)\n",
        "plt.plot(xnew,ynew,'b--')\n",
        "plt.legend(['Data extraction(coarse) from experimental RI fractogram','After regulation'])\n",
        "# plt.xlim([0,1e6])\n",
        "plt.ylim([0,0.06])\n",
        "plt.show()"
      ],
      "execution_count": 29,
      "outputs": [
        {
          "output_type": "display_data",
          "data": {
            "image/png": "[encoded data removed]",
            "text/plain": [
              "<Figure size 432x288 with 1 Axes>"
            ]
          },
          "metadata": {
            "tags": [],
            "needs_background": "light"
          }
        }
      ]
    },
    {
      "cell_type": "code",
      "metadata": {
        "id": "pvctHVmQuomw",
        "colab": {
          "base_uri": "https://localhost:8080/"
        },
        "outputId": "4d152a27-eb4a-49ee-aae3-6ccb45271c03"
      },
      "source": [
        "x_conjugate = xnew\n",
        "y_conjugate = ynew\n",
        "def predict_verification3(Mw,baselined_intensity):\n",
        "  ##Module calculation\n",
        "  sigmaH = 0\n",
        "  W = []\n",
        "  M =[]\n",
        "  H =[]\n",
        "  sum_Wi_Mi = 0  \n",
        "  sum_WiMi = 0   \n",
        "\n",
        "  for x,y in zip(Mw, baselined_intensity):\n",
        "    if x >= Mw.min() and x <= Mw.max():\n",
        "      sigmaH += y\n",
        "      M.append(x)\n",
        "\n",
        "  for x,y in zip(Mw, baselined_intensity):\n",
        "    if x >= Mw.min() and x <= Mw.max():\n",
        "      W.append(y/sigmaH)\n",
        "      H.append(y)\n",
        "\n",
        "  for i in range(len(W)):\n",
        "    sum_Wi_Mi += W[i]/M[i]\n",
        "    sum_WiMi += W[i]*M[i]\n",
        "\n",
        "\n",
        "  Mn_tot = 1/(sum_Wi_Mi)\n",
        "  Mw_tot = sum_WiMi\n",
        "  PDI = Mw_tot / Mn_tot\n",
        "\n",
        "  print(f'RI(coarse, after regulation)-derived Conjugate Mn is {Mn_tot:.1f} Da, Mw is {Mw_tot:.1f} Da, PDI is {PDI:.2f}')\n",
        "predict_verification3(x_conjugate,y_conjugate)\n"
      ],
      "execution_count": 30,
      "outputs": [
        {
          "output_type": "stream",
          "text": [
            "RI(coarse, after regulation)-derived Conjugate Mn is 390234.3 Da, Mw is 787433.2 Da, PDI is 2.02\n"
          ],
          "name": "stdout"
        }
      ]
    },
    {
      "cell_type": "code",
      "metadata": {
        "id": "1yEJPBp9uopy"
      },
      "source": [
        "#datapoint correction, time interval is equal\n",
        "#notice in this case, retention range is different from RI. This is also the reason why LS/RI/Mw constant verification cannot be conducted\n",
        "t = np.linspace(5,55,510)\n",
        "xnew = 10**(0.0526*t+4.5644)"
      ],
      "execution_count": 31,
      "outputs": []
    },
    {
      "cell_type": "code",
      "metadata": {
        "id": "e_JuoMM1uosa",
        "colab": {
          "base_uri": "https://localhost:8080/",
          "height": 273
        },
        "outputId": "15c1c811-7732-4a3d-f73c-e881af1cc84d"
      },
      "source": [
        "from scipy import interpolate\n",
        "x=o2\n",
        "y=m2\n",
        "fig, ax = plt.subplots()\n",
        "ax.semilogx(x,y,'ro')\n",
        "f=interpolate.interp1d(x,y,kind='linear',fill_value=\"extrapolate\")\n",
        "ynew1=f(xnew)\n",
        "plt.plot(xnew,ynew1,'b--')\n",
        "plt.legend(['Data extraction(coarse) from experimental LS fractogram','After regulation'])\n",
        "# plt.xlim([0,1e6])\n",
        "plt.ylim([0,0.3])\n",
        "plt.show()"
      ],
      "execution_count": 32,
      "outputs": [
        {
          "output_type": "display_data",
          "data": {
            "image/png": "[encoded data removed]",
            "text/plain": [
              "<Figure size 432x288 with 1 Axes>"
            ]
          },
          "metadata": {
            "tags": [],
            "needs_background": "light"
          }
        }
      ]
    },
    {
      "cell_type": "code",
      "metadata": {
        "id": "DvomdTLCvwSS",
        "colab": {
          "base_uri": "https://localhost:8080/"
        },
        "outputId": "8aa4cb47-4666-45fd-8bba-200958ab1f54"
      },
      "source": [
        "x_conjugate = xnew\n",
        "y_conjugate = ynew1\n",
        "def predict_verification3(Mw,baselined_intensity):\n",
        "  ##Module calculation\n",
        "  sigmaH = 0\n",
        "  W = []\n",
        "  M =[]\n",
        "  H =[]\n",
        "  sum_Wi_Mi = 0  \n",
        "  sum_WiMi = 0   \n",
        "\n",
        "  for x,y in zip(Mw, baselined_intensity):\n",
        "    if x >= Mw.min() and x <= Mw.max():\n",
        "      sigmaH += y/x\n",
        "      M.append(x)\n",
        "\n",
        "  for x,y in zip(Mw, baselined_intensity):\n",
        "    if x >= Mw.min() and x <= Mw.max():\n",
        "      W.append(y/x/sigmaH)\n",
        "      H.append(y)\n",
        "\n",
        "  for i in range(len(W)):\n",
        "    sum_Wi_Mi += W[i]/M[i]\n",
        "    sum_WiMi += W[i]*M[i]\n",
        "\n",
        "\n",
        "  Mn_tot = 1/(sum_Wi_Mi)\n",
        "  Mw_tot = sum_WiMi\n",
        "  PDI = Mw_tot / Mn_tot\n",
        "\n",
        "  print(f'LS(coarse, after regulation)-derived Conjugate Mn is {Mn_tot:.1f} Da, Mw is {Mw_tot:.1f} Da, PDI is {PDI:.2f}')\n",
        "predict_verification3(x_conjugate,y_conjugate)"
      ],
      "execution_count": 33,
      "outputs": [
        {
          "output_type": "stream",
          "text": [
            "LS(coarse, after regulation)-derived Conjugate Mn is 406096.5 Da, Mw is 818644.6 Da, PDI is 2.02\n"
          ],
          "name": "stdout"
        }
      ]
    },
    {
      "cell_type": "code",
      "metadata": {
        "colab": {
          "base_uri": "https://localhost:8080/"
        },
        "id": "Vq-_GofiGG8_",
        "outputId": "f49ff901-bcd3-4c46-d386-340536ae3460"
      },
      "source": [
        "x_conjugate = o1\r\n",
        "y_conjugate = m1\r\n",
        "def predict_verification3(Mw,baselined_intensity):\r\n",
        "  ##Module calculation\r\n",
        "  sigmaH = 0\r\n",
        "  W = []\r\n",
        "  M =[]\r\n",
        "  H =[]\r\n",
        "  sum_Wi_Mi = 0  \r\n",
        "  sum_WiMi = 0   \r\n",
        "\r\n",
        "  for x,y in zip(Mw, baselined_intensity):\r\n",
        "    if x >= Mw.min() and x <= Mw.max():\r\n",
        "      sigmaH += y\r\n",
        "      M.append(x)\r\n",
        "\r\n",
        "  for x,y in zip(Mw, baselined_intensity):\r\n",
        "    if x >= Mw.min() and x <= Mw.max():\r\n",
        "      W.append(y/sigmaH)\r\n",
        "      H.append(y)\r\n",
        "\r\n",
        "  for i in range(len(W)):\r\n",
        "    sum_Wi_Mi += W[i]/M[i]\r\n",
        "    sum_WiMi += W[i]*M[i]\r\n",
        "\r\n",
        "\r\n",
        "  Mn_tot = 1/(sum_Wi_Mi)\r\n",
        "  Mw_tot = sum_WiMi\r\n",
        "  PDI = Mw_tot / Mn_tot\r\n",
        "\r\n",
        "  print(f'RI(coarse)-derived Conjugate Mn is {Mn_tot:.1f} Da, Mw is {Mw_tot:.1f} Da, PDI is {PDI:.2f}')\r\n",
        "predict_verification3(x_conjugate,y_conjugate)\r\n"
      ],
      "execution_count": 34,
      "outputs": [
        {
          "output_type": "stream",
          "text": [
            "RI(coarse)-derived Conjugate Mn is 382939.2 Da, Mw is 767781.8 Da, PDI is 2.00\n"
          ],
          "name": "stdout"
        }
      ]
    },
    {
      "cell_type": "code",
      "metadata": {
        "colab": {
          "base_uri": "https://localhost:8080/"
        },
        "id": "SnlS6_6GGJ_o",
        "outputId": "c685e695-a09b-4b2a-fe1c-60159f334ddc"
      },
      "source": [
        "x_conjugate = o2\r\n",
        "y_conjugate = m2\r\n",
        "def predict_verification3(Mw,baselined_intensity):\r\n",
        "  ##Module calculation\r\n",
        "  sigmaH = 0\r\n",
        "  W = []\r\n",
        "  M =[]\r\n",
        "  H =[]\r\n",
        "  sum_Wi_Mi = 0  \r\n",
        "  sum_WiMi = 0   \r\n",
        "\r\n",
        "  for x,y in zip(Mw, baselined_intensity):\r\n",
        "    if x >= Mw.min() and x <= Mw.max():\r\n",
        "      sigmaH += y/x\r\n",
        "      M.append(x)\r\n",
        "\r\n",
        "  for x,y in zip(Mw, baselined_intensity):\r\n",
        "    if x >= Mw.min() and x <= Mw.max():\r\n",
        "      W.append(y/x/sigmaH)\r\n",
        "      H.append(y)\r\n",
        "\r\n",
        "  for i in range(len(W)):\r\n",
        "    sum_Wi_Mi += W[i]/M[i]\r\n",
        "    sum_WiMi += W[i]*M[i]\r\n",
        "\r\n",
        "\r\n",
        "  Mn_tot = 1/(sum_Wi_Mi)\r\n",
        "  Mw_tot = sum_WiMi\r\n",
        "  PDI = Mw_tot / Mn_tot\r\n",
        "\r\n",
        "  print(f'LS(coarse)-derived Conjugate Mn is {Mn_tot:.1f} Da, Mw is {Mw_tot:.1f} Da, PDI is {PDI:.2f}')\r\n",
        "predict_verification3(x_conjugate,y_conjugate)\r\n"
      ],
      "execution_count": 35,
      "outputs": [
        {
          "output_type": "stream",
          "text": [
            "LS(coarse)-derived Conjugate Mn is 413376.6 Da, Mw is 814127.0 Da, PDI is 1.97\n"
          ],
          "name": "stdout"
        }
      ]
    },
    {
      "cell_type": "code",
      "metadata": {
        "id": "FJW678HN-GeK"
      },
      "source": [
        ""
      ],
      "execution_count": 35,
      "outputs": []
    }
  ]
}