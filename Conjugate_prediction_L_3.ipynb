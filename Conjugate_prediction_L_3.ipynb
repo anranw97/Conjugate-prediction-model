{
  "nbformat": 4,
  "nbformat_minor": 0,
  "metadata": {
    "colab": {
      "name": "Conjugate_prediction_L_3.ipynb",
      "provenance": [],
      "collapsed_sections": [],
      "machine_shape": "hm"
    },
    "kernelspec": {
      "name": "python3",
      "display_name": "Python 3"
    }
  },
  "cells": [
    {
      "cell_type": "code",
      "metadata": {
        "colab": {
          "base_uri": "https://localhost:8080/"
        },
        "id": "3kUaM3KA1-er",
        "outputId": "2c8d06a8-da79-4db4-cf39-2f260bdaef1d"
      },
      "source": [
        "from google.colab import drive\n",
        "drive.mount('/content/drive')"
      ],
      "execution_count": 1,
      "outputs": [
        {
          "output_type": "stream",
          "text": [
            "Mounted at /content/drive\n"
          ],
          "name": "stdout"
        }
      ]
    },
    {
      "cell_type": "code",
      "metadata": {
        "id": "R9lZs0B_iHSJ",
        "colab": {
          "base_uri": "https://localhost:8080/"
        },
        "outputId": "53aebec9-4e44-4b40-bfb8-49be479b88cb"
      },
      "source": [
        "import numpy as np\n",
        "import matplotlib.pyplot as plt\n",
        "import pandas as pd #data reading\n",
        "!pip install peakutils\n",
        "import peakutils as peakutils #peakutils.baseline\n",
        "import math\n",
        "import csv"
      ],
      "execution_count": 2,
      "outputs": [
        {
          "output_type": "stream",
          "text": [
            "Collecting peakutils\n",
            "  Downloading https://files.pythonhosted.org/packages/0a/11/6416c8aebba4d5f73e23e1f070a419a8944f3ba17eed9efdf9cdc95f0411/PeakUtils-1.3.3-py3-none-any.whl\n",
            "Requirement already satisfied: numpy in /usr/local/lib/python3.6/dist-packages (from peakutils) (1.18.5)\n",
            "Requirement already satisfied: scipy in /usr/local/lib/python3.6/dist-packages (from peakutils) (1.4.1)\n",
            "Installing collected packages: peakutils\n",
            "Successfully installed peakutils-1.3.3\n"
          ],
          "name": "stdout"
        }
      ]
    },
    {
      "cell_type": "code",
      "metadata": {
        "id": "SUOcvEYLCFPw"
      },
      "source": [
        "Mn_tot,PDI,Mw_mono = 37800,1.8,229.28\n",
        "Mw_initiator, Mw_protein, degree_of_initiator = 220,25367,5\n",
        "#5=3*2-1 or you can adjust yourself\n",
        "Number_polymer = 10000 #if you want less noisy/fewer knots for prediction distribution and unless it is less than 100 it will not influence value results\n",
        "step = 2 #directly relevant to calculation load, fewer than 20 is practical, 2 is fastest, no need to go up\n",
        "Smoothfactor = 1 #if you don't like knots at all, slice calculation interval to generate the combined\n",
        "min, max = 2000,4e5\n",
        "min2, max2 = min+ Mw_protein, Mw_protein+max*degree_of_initiator\n",
        "Mw_new = 10**(np.linspace(np.log10(min), np.log10(max), Number_polymer))\n",
        "# Mw_new = np.linspace(min, max, Number_polymer)"
      ],
      "execution_count": 43,
      "outputs": []
    },
    {
      "cell_type": "code",
      "metadata": {
        "id": "i2fH7TfxK5Zv",
        "colab": {
          "base_uri": "https://localhost:8080/",
          "height": 297
        },
        "outputId": "f483a937-517a-477f-cf7f-5406ac56b84b"
      },
      "source": [
        "with open('/content/drive/MyDrive/Master Research/GPC Calculation Model/data/All data/L-3 MALDI.csv', encoding=\"utf-8\") as f:\n",
        "    #pass\n",
        "    data = np.loadtxt(f, delimiter = \",\",skiprows=1)\n",
        "    x2 = data[:, 0]\n",
        "    y2 = data[:, 1]\n",
        "base = peakutils.baseline(np.asarray(y2),deg = 1, max_it = 100000, tol = .0001)#deg, max_it, tol can be customized\n",
        "y2_baselined = y2 - base\n",
        "y2 = y2_baselined/np.sum(y2_baselined)\n",
        "plt.plot(x2,y2,'.')\n",
        "plt.xlim(22500,28000)\n",
        "plt.xlabel('Molar mass (g/mol)')\n",
        "plt.ylabel('Normalized intensity')\n",
        "# plt.title('Protein MALDI data reading')\n",
        "plt.axvline(25367,color='g')\n",
        "plt.axvline(25367+220,color='coral',ls='--')\n",
        "plt.axvline(25367+220*2,color='coral',ls='--')\n",
        "plt.axvline(25367+220*3,color='coral',ls='--')\n",
        "plt.axvline(25367+220*4,color='coral',ls='--')\n",
        "plt.axvline(25367+220*5,color='coral',ls='--')"
      ],
      "execution_count": 44,
      "outputs": [
        {
          "output_type": "execute_result",
          "data": {
            "text/plain": [
              "<matplotlib.lines.Line2D at 0x7f934c01fd30>"
            ]
          },
          "metadata": {
            "tags": []
          },
          "execution_count": 44
        },
        {
          "output_type": "display_data",
          "data": {
            "image/png": "[encoded data removed]",
            "text/plain": [
              "<Figure size 432x288 with 1 Axes>"
            ]
          },
          "metadata": {
            "tags": [],
            "needs_background": "light"
          }
        }
      ]
    },
    {
      "cell_type": "code",
      "metadata": {
        "id": "wty3IoOBN8A_"
      },
      "source": [
        "a,d = Mw_protein, Mw_initiator\n",
        "\n",
        "x = x2\n",
        "y=y2\n",
        "x = np.array(x)\n",
        "y = np.array(y)\n",
        "\n",
        "sample_step_x_p = []\n",
        "sample_step_y_p = []\n",
        "\n",
        "Length = d\n",
        "for i in range(int(a), int(a+degree_of_initiator*d), Length):\n",
        "    begin = i\n",
        "    end = i + Length\n",
        "    candidate = []\n",
        "    candidate = np.array(candidate)\n",
        "    candidate = candidate.astype('int64')\n",
        "    for j in range(0,x.size):\n",
        "        if (x[j] <= end) and (x[j] >= begin):\n",
        "            #print(x[j])\n",
        "            candidate = np.append(candidate, int(j))\n",
        "    #print(candidate)\n",
        "    if(candidate.size == 0):\n",
        "        continue\n",
        "    x_sample = x[candidate]\n",
        "    y_sample = y[candidate]\n",
        "    x_ave = np.mean(x_sample)\n",
        "    y_ave = np.mean(y_sample)\n",
        "    sample_step_x_p = np.append(sample_step_x_p, x_ave)\n",
        "    sample_step_y_p = np.append(sample_step_y_p, y_ave)\n",
        "sample_step_x_p=sample_step_x_p\n",
        "sample_step_y_p=sample_step_y_p/np.sum(sample_step_y_p)"
      ],
      "execution_count": 45,
      "outputs": []
    },
    {
      "cell_type": "code",
      "metadata": {
        "colab": {
          "base_uri": "https://localhost:8080/"
        },
        "id": "gfb6uouZH5an",
        "outputId": "1dcf9a7b-c36c-4684-eca2-c1729bc8c4c9"
      },
      "source": [
        "sample_step_y_p"
      ],
      "execution_count": 46,
      "outputs": [
        {
          "output_type": "execute_result",
          "data": {
            "text/plain": [
              "array([0.14000456, 0.19626662, 0.25503435, 0.24078942, 0.16790505])"
            ]
          },
          "metadata": {
            "tags": []
          },
          "execution_count": 46
        }
      ]
    },
    {
      "cell_type": "code",
      "metadata": {
        "id": "IOjuLhTdirQ9"
      },
      "source": [
        "#log distribution for stepwise calculation\n",
        "Mw_tot = Mn_tot*PDI\n",
        "M0 = (Mn_tot*Mw_tot)**0.5\n",
        "sigma2 = np.sqrt(np.log(Mw_tot/Mn_tot))\n",
        "def LN(x, x0, sigma):\n",
        "    return 1/sigma/np.sqrt(2*np.pi)/x* np.exp(-1/2/(sigma**2)*((np.log(((x/x0)))**2)))"
      ],
      "execution_count": 47,
      "outputs": []
    },
    {
      "cell_type": "code",
      "metadata": {
        "id": "tvG68TTanoi9"
      },
      "source": [
        "x1_2_new=Mw_new\n",
        "# y1_2_new= LN(Mw_new,M0,sigma2)/np.log10(np.e)*Mw_new###attention!!!x(M) log differential MWD\n",
        "y1_2_new= LN(Mw_new,M0,sigma2)###attention!!!-w(M)weight based differential MWD"
      ],
      "execution_count": 48,
      "outputs": []
    },
    {
      "cell_type": "code",
      "metadata": {
        "id": "ptnEQtEwCmT4"
      },
      "source": [
        "x1_2 = [x1_2_new[i:i+step] for i in range(0,len(x1_2_new),step)]\n",
        "y1_2 = [y1_2_new[i:i+step] for i in range(0,len(x1_2_new),step)]"
      ],
      "execution_count": 49,
      "outputs": []
    },
    {
      "cell_type": "code",
      "metadata": {
        "id": "4dm1WsFMvCrc"
      },
      "source": [
        "N__1, N__2, N__3, N__4, N__5 = [], [], [], [], []\n",
        "P__1, P__2, P__3, P__4, P__5 = [], [], [], [], []\n",
        "N_2=[]\n",
        "P_2=[]"
      ],
      "execution_count": 50,
      "outputs": []
    },
    {
      "cell_type": "code",
      "metadata": {
        "id": "yViDUtAOf61G"
      },
      "source": [
        "for ii in range(len(x1_2)-1):\n",
        "    x1 = x1_2[ii]\n",
        "    y1 = y1_2[ii]\n",
        "    N1, N2, N3, N4, N5 = [], [], [], [], []\n",
        "    P1, P2, P3, P4, P5 = [], [], [], [], []\n",
        "    for i in range(step):\n",
        "        N1.append(x1[i] + a)\n",
        "        P1.append(y1[i] * sample_step_y_p[0])\n",
        "    N__1.extend(N1)\n",
        "    P__1.extend(P1)\n",
        "    for i in range(step):\n",
        "        for j in range(step):\n",
        "            N2.append(N1[i] + x1[j])\n",
        "            P2.append((P1[i] + y1[j]) * sample_step_y_p[1])\n",
        "    N__2.extend(N2)\n",
        "    P__2.extend(P2)\n",
        "    for i in range(step ** 2):\n",
        "        for j in range(step):\n",
        "            N3.append(N2[i] + x1[j])\n",
        "            P3.append((P2[i] + y1[j]) * sample_step_y_p[2])\n",
        "    N__3.extend(N3)\n",
        "    P__3.extend(P3)\n",
        "    for i in range(step ** 3):\n",
        "        for j in range(step):\n",
        "            N4.append(N3[i] + x1[j])\n",
        "            P4.append((P3[i] + y1[j]) * sample_step_y_p[3])\n",
        "    N__4.extend(N4)\n",
        "    P__4.extend(P4)\n",
        "    for i in range(step ** 4):\n",
        "        for j in range(step):\n",
        "            N5.append(N4[i] + x1[j])\n",
        "            P5.append((P4[i] + y1[j]) * sample_step_y_p[4])\n",
        "    N__5.extend(N5)\n",
        "    P__5.extend(P5)\n",
        "    \n",
        "    N_2_proxy = np.concatenate((N1, N2, N3, N4, N5),axis=0)\n",
        "    P_2_proxy = np.concatenate((P1, P2, P3, P4, P5),axis=0)\n",
        "    N_2 = np.append(N_2, N_2_proxy)\n",
        "    P_2 = np.append(P_2, P_2_proxy)\n"
      ],
      "execution_count": 51,
      "outputs": []
    },
    {
      "cell_type": "code",
      "metadata": {
        "id": "_QzYQ3Njv74X",
        "colab": {
          "base_uri": "https://localhost:8080/",
          "height": 311
        },
        "outputId": "1fa3d11e-ea6e-4b27-87ca-09e0d698ad13"
      },
      "source": [
        "fig, ax = plt.subplots()\n",
        "ax.semilogx(N__1,P__1,'.')\n",
        "plt.plot(N__2,P__2,'.')\n",
        "plt.plot(N__3,P__3,'.')\n",
        "plt.plot(N__4,P__4,'.')\n",
        "plt.plot(N__5,P__5,'.')\n",
        "name=[]\n",
        "for i in range(degree_of_initiator):\n",
        "  name.append(f'P{i+1}')\n",
        "plt.legend(name)\n",
        "plt.xlabel('Molecular weight (g/mol)')\n",
        "plt.ylabel('Predicted response')"
      ],
      "execution_count": 52,
      "outputs": [
        {
          "output_type": "execute_result",
          "data": {
            "text/plain": [
              "Text(0, 0.5, 'Predicted response')"
            ]
          },
          "metadata": {
            "tags": []
          },
          "execution_count": 52
        },
        {
          "output_type": "display_data",
          "data": {
            "image/png": "[encoded data removed]",
            "text/plain": [
              "<Figure size 432x288 with 1 Axes>"
            ]
          },
          "metadata": {
            "tags": [],
            "needs_background": "light"
          }
        }
      ]
    },
    {
      "cell_type": "code",
      "metadata": {
        "id": "VPRSQzoY_yVH"
      },
      "source": [
        "order = np.argsort(N_2)"
      ],
      "execution_count": 53,
      "outputs": []
    },
    {
      "cell_type": "code",
      "metadata": {
        "id": "pxcQ1AMKAhIu"
      },
      "source": [
        "N22=[]\n",
        "P22=[]\n",
        "for i in order:\n",
        "  N22.append(N_2[i])\n",
        "  P22.append(P_2[i])\n"
      ],
      "execution_count": 54,
      "outputs": []
    },
    {
      "cell_type": "code",
      "metadata": {
        "id": "ioXeBMdbvTMv"
      },
      "source": [
        "from itertools import groupby\n",
        "n2=[]\n",
        "p2=[]\n",
        "index=[]\n",
        "for k, g in groupby(N22, key=lambda x: x//(Mw_mono*Smoothfactor)):\n",
        "  index.append(len(list(g)))\n",
        "for k, g in groupby(N22, key=lambda x: x//(Mw_mono*Smoothfactor)):\n",
        "  n2.append(np.mean(list(g)))  \n",
        "j=0\n",
        "\n",
        "for i in index:\n",
        "  s=np.sum(P22[j:j+i])\n",
        "  j+=i\n",
        "  p2.append(s)"
      ],
      "execution_count": 55,
      "outputs": []
    },
    {
      "cell_type": "code",
      "metadata": {
        "colab": {
          "base_uri": "https://localhost:8080/",
          "height": 301
        },
        "id": "b_c7hFuQIB88",
        "outputId": "e7bf099b-25e0-4a04-8049-bd1306421730"
      },
      "source": [
        "fig, ax = plt.subplots()\r\n",
        "ax.semilogx(n2,p2/np.sum(p2),'-')\r\n",
        "plt.xlabel('Molecular weight (g/mol)')\r\n",
        "plt.ylabel('Normalized predicted response')"
      ],
      "execution_count": 56,
      "outputs": [
        {
          "output_type": "execute_result",
          "data": {
            "text/plain": [
              "Text(0, 0.5, 'Normalized predicted response')"
            ]
          },
          "metadata": {
            "tags": []
          },
          "execution_count": 56
        },
        {
          "output_type": "display_data",
          "data": {
            "image/png": "[encoded data removed]",
            "text/plain": [
              "<Figure size 432x288 with 1 Axes>"
            ]
          },
          "metadata": {
            "tags": [],
            "needs_background": "light"
          }
        }
      ]
    },
    {
      "cell_type": "code",
      "metadata": {
        "id": "VHjKewipPBzD",
        "colab": {
          "base_uri": "https://localhost:8080/"
        },
        "outputId": "72320460-a723-46e7-e8db-d19d75141cac"
      },
      "source": [
        "x_conjugate = n2\n",
        "y_conjugate = p2/np.sum(p2)\n",
        "def predict_verification3(Mw,baselined_intensity):\n",
        "  ##Module calculation\n",
        "  sigmaH = 0\n",
        "  W = []\n",
        "  M =[]\n",
        "  H =[]\n",
        "  sum_Wi_Mi = 0  \n",
        "  sum_WiMi = 0   \n",
        "\n",
        "  for x,y in zip(Mw, baselined_intensity):\n",
        "    if x >= min2 and x <= max2:\n",
        "      sigmaH += y\n",
        "      M.append(x)\n",
        "\n",
        "  for x,y in zip(Mw, baselined_intensity):\n",
        "    if x >= min2 and x <= max2:\n",
        "      W.append(y/sigmaH)\n",
        "      H.append(y)\n",
        "\n",
        "  for i in range(len(W)):\n",
        "    sum_Wi_Mi += W[i]/M[i]\n",
        "    sum_WiMi += W[i]*M[i]\n",
        "\n",
        "\n",
        "  Mn_tot = 1/(sum_Wi_Mi)\n",
        "  Mw_tot = sum_WiMi\n",
        "  PDI = Mw_tot / Mn_tot\n",
        "\n",
        "  print(f'Predicted Conjugate Mn is {Mn_tot:.1f} Da, Mw is {Mw_tot:.1f} Da, PDI is {PDI:.2f}')\n",
        "predict_verification3(x_conjugate,y_conjugate)\n"
      ],
      "execution_count": 57,
      "outputs": [
        {
          "output_type": "stream",
          "text": [
            "Predicted Conjugate Mn is 118998.2 Da, Mw is 180749.4 Da, PDI is 1.52\n"
          ],
          "name": "stdout"
        }
      ]
    },
    {
      "cell_type": "code",
      "metadata": {
        "id": "6bgeOBzZmNDL",
        "colab": {
          "base_uri": "https://localhost:8080/",
          "height": 301
        },
        "outputId": "f70e9dc3-4ceb-4fbf-e943-17afe16688a9"
      },
      "source": [
        "with open('/content/drive/MyDrive/Master Research/GPC Calculation Model/data/All data/L-3 MALS-RI(dense).csv', encoding=\"utf-8\") as f:\n",
        "    #pass\n",
        "    data2 = np.loadtxt(f, delimiter = \",\")\n",
        "    m1 = data2[:, 1]\n",
        "    o1 = data2[:, 2]#[:,2]corresdponds to L-S MALS-MM1; [:,3]corresponds to MM2(chosen)\n",
        "with open('/content/drive/MyDrive/Master Research/GPC Calculation Model/data/All data/L-3 MALS-LS(dense).csv', encoding=\"utf-8\") as f:\n",
        "    #pass\n",
        "    data3 = np.loadtxt(f, delimiter = \",\")\n",
        "    m2 = data3[:, 1]\n",
        "    o2 = data3[:, 2]   \n",
        "# fig, ax = plt.subplots(figsize=(50, 30))\n",
        "# ax.semilogx(o1,m1/np.max(m1),'--')\n",
        "# plt.semilogx(o2,m2/np.max(m2),'--')\n",
        "# plt.semilogx(n2,p2/np.max(p2),'-')\n",
        "# plt.legend(['RI','LS','prediction'])\n",
        "# plt.title('L-3')\n",
        "plt.show()##take a closer look at green line\n",
        "fig, ax = plt.subplots()\n",
        "ax.semilogx(o1,m1/np.max(m1),'--')\n",
        "plt.semilogx(o2,m2/np.max(m2),'--')\n",
        "plt.semilogx(n2,p2/np.max(p2),'-')\n",
        "plt.legend(['RI','LS','Prediction'])\n",
        "plt.xlabel('Molecular weight (g/mol)')\n",
        "plt.ylabel('Relative response (%)')\n",
        "# plt.title('L-3 comparison between experimental(dense) and prediction results')"
      ],
      "execution_count": 58,
      "outputs": [
        {
          "output_type": "execute_result",
          "data": {
            "text/plain": [
              "Text(0, 0.5, 'Relative response (%)')"
            ]
          },
          "metadata": {
            "tags": []
          },
          "execution_count": 58
        },
        {
          "output_type": "display_data",
          "data": {
            "image/png": "[encoded data removed]",
            "text/plain": [
              "<Figure size 432x288 with 1 Axes>"
            ]
          },
          "metadata": {
            "tags": [],
            "needs_background": "light"
          }
        }
      ]
    },
    {
      "cell_type": "code",
      "metadata": {
        "id": "stdVBofhv1_g"
      },
      "source": [
        "#datapoint correction, time interval is equal\n",
        "t = np.linspace(5,30,260)\n",
        "xnew = 10**(0.0772*t+4.0638)#consistent with [:;2/3]"
      ],
      "execution_count": 59,
      "outputs": []
    },
    {
      "cell_type": "code",
      "metadata": {
        "colab": {
          "base_uri": "https://localhost:8080/",
          "height": 273
        },
        "id": "6uhiLAlApP4q",
        "outputId": "0e34a93d-dfbf-46f0-f255-3df7e798b7da"
      },
      "source": [
        "from scipy import interpolate\n",
        "x=o1\n",
        "y=m1\n",
        "fig, ax = plt.subplots()\n",
        "ax.semilogx(x,y,'ro')\n",
        "f=interpolate.interp1d(x,y,kind='linear',fill_value=\"extrapolate\")\n",
        "ynew=f(xnew)\n",
        "plt.plot(xnew,ynew,'b--')\n",
        "plt.legend(['Data extraction(dense) from experimental RI fractogram','After regulation'])\n",
        "# plt.xlim([0,1e6])\n",
        "plt.ylim([0,0.1])\n",
        "plt.show()"
      ],
      "execution_count": 60,
      "outputs": [
        {
          "output_type": "display_data",
          "data": {
            "image/png": "[encoded data removed]",
            "text/plain": [
              "<Figure size 432x288 with 1 Axes>"
            ]
          },
          "metadata": {
            "tags": [],
            "needs_background": "light"
          }
        }
      ]
    },
    {
      "cell_type": "code",
      "metadata": {
        "colab": {
          "base_uri": "https://localhost:8080/"
        },
        "id": "7YigUicK-tAx",
        "outputId": "e1276fec-5ce4-4beb-b6a8-9aa45f37435e"
      },
      "source": [
        "np.sum(ynew),np.sum(m1),np.sum(m2)"
      ],
      "execution_count": 61,
      "outputs": [
        {
          "output_type": "execute_result",
          "data": {
            "text/plain": [
              "(7.66003736173807, 2.659315403, 3.262102688)"
            ]
          },
          "metadata": {
            "tags": []
          },
          "execution_count": 61
        }
      ]
    },
    {
      "cell_type": "code",
      "metadata": {
        "id": "6xyIke6MY87s",
        "colab": {
          "base_uri": "https://localhost:8080/"
        },
        "outputId": "b2efba13-8413-4a6c-b648-a1866aba56e4"
      },
      "source": [
        "x_conjugate = xnew\n",
        "y_conjugate = ynew\n",
        "def predict_verification3(Mw,baselined_intensity):\n",
        "  ##Module calculation\n",
        "  sigmaH = 0\n",
        "  W = []\n",
        "  M =[]\n",
        "  H =[]\n",
        "  sum_Wi_Mi = 0  \n",
        "  sum_WiMi = 0   \n",
        "\n",
        "  for x,y in zip(Mw, baselined_intensity):\n",
        "    if x >= Mw.min() and x <= Mw.max():\n",
        "      sigmaH += y\n",
        "      M.append(x)\n",
        "\n",
        "  for x,y in zip(Mw, baselined_intensity):\n",
        "    if x >= Mw.min() and x <= Mw.max():\n",
        "      W.append(y/sigmaH)\n",
        "      H.append(y)\n",
        "\n",
        "  for i in range(len(W)):\n",
        "    sum_Wi_Mi += W[i]/M[i]\n",
        "    sum_WiMi += W[i]*M[i]\n",
        "\n",
        "\n",
        "  Mn_tot = 1/(sum_Wi_Mi)\n",
        "  Mw_tot = sum_WiMi\n",
        "  PDI = Mw_tot / Mn_tot\n",
        "\n",
        "  print(f'RI(dense, after regulation)-derived Conjugate Mn is {Mn_tot:.1f} Da, Mw is {Mw_tot:.1f} Da, PDI is {PDI:.2f}')\n",
        "predict_verification3(x_conjugate,y_conjugate)\n"
      ],
      "execution_count": 62,
      "outputs": [
        {
          "output_type": "stream",
          "text": [
            "RI(dense, after regulation)-derived Conjugate Mn is 115572.3 Da, Mw is 200234.4 Da, PDI is 1.73\n"
          ],
          "name": "stdout"
        }
      ]
    },
    {
      "cell_type": "code",
      "metadata": {
        "colab": {
          "base_uri": "https://localhost:8080/",
          "height": 273
        },
        "id": "yNnslvId2kbM",
        "outputId": "5b1734e6-a24c-4648-d34b-b31376d56154"
      },
      "source": [
        "from scipy import interpolate\n",
        "x=o2\n",
        "y=m2\n",
        "fig, ax = plt.subplots()\n",
        "ax.semilogx(x,y,'ro')\n",
        "f=interpolate.interp1d(x,y,kind='linear',fill_value=\"extrapolate\")\n",
        "ynew1=f(xnew)\n",
        "plt.plot(xnew,ynew1,'b--')\n",
        "plt.legend(['Data extraction from experimental LS fractogram','After regulation'])\n",
        "# plt.xlim([0,1e6])\n",
        "plt.ylim([0,0.12])\n",
        "plt.show()"
      ],
      "execution_count": 63,
      "outputs": [
        {
          "output_type": "display_data",
          "data": {
            "image/png": "[encoded data removed]",
            "text/plain": [
              "<Figure size 432x288 with 1 Axes>"
            ]
          },
          "metadata": {
            "tags": [],
            "needs_background": "light"
          }
        }
      ]
    },
    {
      "cell_type": "code",
      "metadata": {
        "id": "a9SFG3FrwLgj",
        "colab": {
          "base_uri": "https://localhost:8080/"
        },
        "outputId": "b1614da4-c682-4c2f-d9cd-1c59dc57d53e"
      },
      "source": [
        "x_conjugate = xnew\n",
        "y_conjugate = ynew1\n",
        "def predict_verification3(Mw,baselined_intensity):\n",
        "  ##Module calculation\n",
        "  sigmaH = 0\n",
        "  W = []\n",
        "  M =[]\n",
        "  H =[]\n",
        "  sum_Wi_Mi = 0  \n",
        "  sum_WiMi = 0   \n",
        "\n",
        "  for x,y in zip(Mw, baselined_intensity):\n",
        "    if x >= Mw.min() and x <= Mw.max():\n",
        "      sigmaH += y/x\n",
        "      M.append(x)\n",
        "\n",
        "  for x,y in zip(Mw, baselined_intensity):\n",
        "    if x >= Mw.min() and x <= Mw.max():\n",
        "      W.append(y/x/sigmaH)\n",
        "      H.append(y)\n",
        "\n",
        "  for i in range(len(W)):\n",
        "    sum_Wi_Mi += W[i]/M[i]\n",
        "    sum_WiMi += W[i]*M[i]\n",
        "\n",
        "\n",
        "  Mn_tot = 1/(sum_Wi_Mi)\n",
        "  Mw_tot = sum_WiMi\n",
        "  PDI = Mw_tot / Mn_tot\n",
        "\n",
        "  print(f'LS(dense,after regulation)-derived Conjugate Mn is {Mn_tot:.1f} Da, Mw is {Mw_tot:.1f} Da, PDI is {PDI:.2f}')\n",
        "predict_verification3(x_conjugate,y_conjugate)\n"
      ],
      "execution_count": 64,
      "outputs": [
        {
          "output_type": "stream",
          "text": [
            "LS(dense,after regulation)-derived Conjugate Mn is 112787.0 Da, Mw is 176426.2 Da, PDI is 1.56\n"
          ],
          "name": "stdout"
        }
      ]
    },
    {
      "cell_type": "code",
      "metadata": {
        "id": "EI6oqb_4aGvp"
      },
      "source": [
        "np.min(ynew1/xnew/ynew),np.max(ynew1/xnew/ynew)\n",
        "xx = ynew1/xnew/ynew\n",
        "yy=xx[50:210]\n",
        "zz=xx[110:150]"
      ],
      "execution_count": 65,
      "outputs": []
    },
    {
      "cell_type": "code",
      "metadata": {
        "colab": {
          "base_uri": "https://localhost:8080/",
          "height": 788
        },
        "id": "433Ux5XjeQlO",
        "outputId": "47437186-d796-46f3-b207-4de4df2c2dce"
      },
      "source": [
        "num_bins1, num_bins2 = 100, 100\n",
        "# the histogram of the data  \n",
        "n, bins, patches = plt.hist(xx, num_bins1,facecolor='blue')  \n",
        "plt.show()\n",
        "n, bins, patches = plt.hist(yy, num_bins2,facecolor='blue')  \n",
        "plt.show()\n",
        "n, bins, patches = plt.hist(zz, num_bins2,facecolor='blue')  "
      ],
      "execution_count": 66,
      "outputs": [
        {
          "output_type": "display_data",
          "data": {
            "image/png": "[encoded data removed]",
            "text/plain": [
              "<Figure size 432x288 with 1 Axes>"
            ]
          },
          "metadata": {
            "tags": [],
            "needs_background": "light"
          }
        },
        {
          "output_type": "display_data",
          "data": {
            "image/png": "[encoded data removed]",
            "text/plain": [
              "<Figure size 432x288 with 1 Axes>"
            ]
          },
          "metadata": {
            "tags": [],
            "needs_background": "light"
          }
        },
        {
          "output_type": "display_data",
          "data": {
            "image/png": "[encoded data removed]",
            "text/plain": [
              "<Figure size 432x288 with 1 Axes>"
            ]
          },
          "metadata": {
            "tags": [],
            "needs_background": "light"
          }
        }
      ]
    },
    {
      "cell_type": "code",
      "metadata": {
        "colab": {
          "base_uri": "https://localhost:8080/",
          "height": 276
        },
        "id": "mAOUrIcMyWu2",
        "outputId": "69fdec9b-97b7-47f1-b6d7-ce503be6ed0a"
      },
      "source": [
        "plt.errorbar(0,np.mean(zz),yerr= np.std(zz),fmt='o',ecolor='r',color='b',elinewidth=2,capsize=4)\n",
        "plt.ylim([0.4e-6,10e-6])\n",
        "plt.show()"
      ],
      "execution_count": 67,
      "outputs": [
        {
          "output_type": "display_data",
          "data": {
            "image/png": "[encoded data removed]",
            "text/plain": [
              "<Figure size 432x288 with 1 Axes>"
            ]
          },
          "metadata": {
            "tags": [],
            "needs_background": "light"
          }
        }
      ]
    },
    {
      "cell_type": "code",
      "metadata": {
        "colab": {
          "base_uri": "https://localhost:8080/"
        },
        "id": "HasuPEjNXlw3",
        "outputId": "c0bd5062-b0ea-4df7-9008-e36fe96a9276"
      },
      "source": [
        "x_conjugate = o1\n",
        "y_conjugate = m1\n",
        "def predict_verification3(Mw,baselined_intensity):\n",
        "  ##Module calculation\n",
        "  sigmaH = 0\n",
        "  W = []\n",
        "  M =[]\n",
        "  H =[]\n",
        "  sum_Wi_Mi = 0  \n",
        "  sum_WiMi = 0   \n",
        "\n",
        "  for x,y in zip(Mw, baselined_intensity):\n",
        "    if x >= Mw.min() and x <= Mw.max():\n",
        "      sigmaH += y\n",
        "      M.append(x)\n",
        "\n",
        "  for x,y in zip(Mw, baselined_intensity):\n",
        "    if x >= Mw.min() and x <= Mw.max():\n",
        "      W.append(y/sigmaH)\n",
        "      H.append(y)\n",
        "\n",
        "  for i in range(len(W)):\n",
        "    sum_Wi_Mi += W[i]/M[i]\n",
        "    sum_WiMi += W[i]*M[i]\n",
        "\n",
        "\n",
        "  Mn_tot = 1/(sum_Wi_Mi)\n",
        "  Mw_tot = sum_WiMi\n",
        "  PDI = Mw_tot / Mn_tot\n",
        "\n",
        "  print(f'RI(dense)-derived Conjugate Mn is {Mn_tot:.1f} Da, Mw is {Mw_tot:.1f} Da, PDI is {PDI:.2f}')\n",
        "predict_verification3(x_conjugate,y_conjugate)"
      ],
      "execution_count": 68,
      "outputs": [
        {
          "output_type": "stream",
          "text": [
            "RI(dense)-derived Conjugate Mn is 105125.4 Da, Mw is 177977.6 Da, PDI is 1.69\n"
          ],
          "name": "stdout"
        }
      ]
    },
    {
      "cell_type": "code",
      "metadata": {
        "colab": {
          "base_uri": "https://localhost:8080/"
        },
        "id": "mLvIxwyTXyPW",
        "outputId": "260d8899-97b4-49d5-a4ec-77d35ebb0972"
      },
      "source": [
        "x_conjugate = o2\n",
        "y_conjugate = m2\n",
        "def predict_verification3(Mw,baselined_intensity):\n",
        "  ##Module calculation\n",
        "  sigmaH = 0\n",
        "  W = []\n",
        "  M =[]\n",
        "  H =[]\n",
        "  sum_Wi_Mi = 0  \n",
        "  sum_WiMi = 0   \n",
        "\n",
        "  for x,y in zip(Mw, baselined_intensity):\n",
        "    if x >= Mw.min() and x <= Mw.max():\n",
        "      sigmaH += y/x#NOTICE!!LS signal is porpotional to the product of conc and M\n",
        "      M.append(x)\n",
        "\n",
        "  for x,y in zip(Mw, baselined_intensity):\n",
        "    if x >= Mw.min() and x <= Mw.max():\n",
        "      W.append(y/x/sigmaH)\n",
        "      H.append(y)\n",
        "\n",
        "  for i in range(len(W)):\n",
        "    sum_Wi_Mi += W[i]/M[i]\n",
        "    sum_WiMi += W[i]*M[i]\n",
        "\n",
        "\n",
        "  Mn_tot = 1/(sum_Wi_Mi)\n",
        "  Mw_tot = sum_WiMi\n",
        "  PDI = Mw_tot / Mn_tot\n",
        "\n",
        "  print(f'LS(dense)-derived Conjugate Mn is {Mn_tot:.1f} Da, Mw is {Mw_tot:.1f} Da, PDI is {PDI:.2f}')\n",
        "predict_verification3(x_conjugate,y_conjugate)\n"
      ],
      "execution_count": 69,
      "outputs": [
        {
          "output_type": "stream",
          "text": [
            "LS(dense)-derived Conjugate Mn is 114277.2 Da, Mw is 182247.3 Da, PDI is 1.59\n"
          ],
          "name": "stdout"
        }
      ]
    },
    {
      "cell_type": "code",
      "metadata": {
        "colab": {
          "base_uri": "https://localhost:8080/",
          "height": 303
        },
        "id": "hlav8TE51nGv",
        "outputId": "888a9946-fcbb-4252-d1ee-4145989a0e86"
      },
      "source": [
        "with open('/content/drive/MyDrive/Master Research/GPC Calculation Model/data/All data/L-3 MALS-RI(coarse).csv', encoding=\"utf-8\") as f:\n",
        "    #pass\n",
        "    data2 = np.loadtxt(f, delimiter = \",\")\n",
        "    m1 = data2[:, 1]\n",
        "    o1 = data2[:, 2]\n",
        "with open('/content/drive/MyDrive/Master Research/GPC Calculation Model/data/All data/L-3 MALS-LS(coarse).csv', encoding=\"utf-8\") as f:\n",
        "    #pass\n",
        "    data2 = np.loadtxt(f, delimiter = \",\")\n",
        "    m2 = data2[:, 1]\n",
        "    o2 = data2[:, 2]\n",
        " \n",
        "fig, ax = plt.subplots()\n",
        "ax.semilogx(o1,m1/np.max(m1),'--')\n",
        "plt.semilogx(o2,m2/np.max(m2),'--')\n",
        "plt.semilogx(n2,p2/np.max(p2),'-')\n",
        "plt.legend(['RI','LS','prediction'])\n",
        "plt.title('L-3 comparison between experimental(coarse) and prediction results')"
      ],
      "execution_count": 70,
      "outputs": [
        {
          "output_type": "execute_result",
          "data": {
            "text/plain": [
              "Text(0.5, 1.0, 'L-3 comparison between experimental(coarse) and prediction results')"
            ]
          },
          "metadata": {
            "tags": []
          },
          "execution_count": 70
        },
        {
          "output_type": "display_data",
          "data": {
            "image/png": "[encoded data removed]",
            "text/plain": [
              "<Figure size 432x288 with 1 Axes>"
            ]
          },
          "metadata": {
            "tags": [],
            "needs_background": "light"
          }
        }
      ]
    },
    {
      "cell_type": "code",
      "metadata": {
        "colab": {
          "base_uri": "https://localhost:8080/",
          "height": 273
        },
        "id": "-Nkr0WcoYpQt",
        "outputId": "19974645-683d-4719-8e78-fa2a3d40746f"
      },
      "source": [
        "from scipy import interpolate\n",
        "x=o1\n",
        "y=m1\n",
        "fig, ax = plt.subplots()\n",
        "ax.semilogx(x,y,'ro')\n",
        "f=interpolate.interp1d(x,y,kind='linear',fill_value=\"extrapolate\")\n",
        "ynew=f(xnew)\n",
        "plt.plot(xnew,ynew,'b--')\n",
        "plt.legend(['Data extraction(coarse) from experimental RI fractogram','After regulation'])\n",
        "# plt.xlim([0,1e6])\n",
        "plt.ylim([0,0.1])\n",
        "plt.show()"
      ],
      "execution_count": 71,
      "outputs": [
        {
          "output_type": "display_data",
          "data": {
            "image/png": "[encoded data removed]",
            "text/plain": [
              "<Figure size 432x288 with 1 Axes>"
            ]
          },
          "metadata": {
            "tags": [],
            "needs_background": "light"
          }
        }
      ]
    },
    {
      "cell_type": "code",
      "metadata": {
        "colab": {
          "base_uri": "https://localhost:8080/"
        },
        "id": "tYenjfzpY3UE",
        "outputId": "b9a1f64f-bb6c-4ef4-8671-471a114ab281"
      },
      "source": [
        "x_conjugate = xnew\n",
        "y_conjugate = ynew\n",
        "def predict_verification3(Mw,baselined_intensity):\n",
        "  ##Module calculation\n",
        "  sigmaH = 0\n",
        "  W = []\n",
        "  M =[]\n",
        "  H =[]\n",
        "  sum_Wi_Mi = 0  \n",
        "  sum_WiMi = 0   \n",
        "\n",
        "  for x,y in zip(Mw, baselined_intensity):\n",
        "    if x >= Mw.min() and x <= Mw.max():\n",
        "      sigmaH += y\n",
        "      M.append(x)\n",
        "\n",
        "  for x,y in zip(Mw, baselined_intensity):\n",
        "    if x >= Mw.min() and x <= Mw.max():\n",
        "      W.append(y/sigmaH)\n",
        "      H.append(y)\n",
        "\n",
        "  for i in range(len(W)):\n",
        "    sum_Wi_Mi += W[i]/M[i]\n",
        "    sum_WiMi += W[i]*M[i]\n",
        "\n",
        "\n",
        "  Mn_tot = 1/(sum_Wi_Mi)\n",
        "  Mw_tot = sum_WiMi\n",
        "  PDI = Mw_tot / Mn_tot\n",
        "\n",
        "  print(f'RI(coarse, after regulation)-derived Conjugate Mn is {Mn_tot:.1f} Da, Mw is {Mw_tot:.1f} Da, PDI is {PDI:.2f}')\n",
        "predict_verification3(x_conjugate,y_conjugate)\n"
      ],
      "execution_count": 72,
      "outputs": [
        {
          "output_type": "stream",
          "text": [
            "RI(coarse, after regulation)-derived Conjugate Mn is 112652.9 Da, Mw is 147208.0 Da, PDI is 1.31\n"
          ],
          "name": "stdout"
        }
      ]
    },
    {
      "cell_type": "code",
      "metadata": {
        "colab": {
          "base_uri": "https://localhost:8080/",
          "height": 273
        },
        "id": "jgIDbfThYr9Z",
        "outputId": "e333c6d6-7bb9-44e5-8ff6-b3965ce89f31"
      },
      "source": [
        "from scipy import interpolate\n",
        "x=o2\n",
        "y=m2\n",
        "fig, ax = plt.subplots()\n",
        "ax.semilogx(x,y,'ro')\n",
        "f=interpolate.interp1d(x,y,kind='linear',fill_value=\"extrapolate\")\n",
        "ynew1=f(xnew)\n",
        "plt.plot(xnew,ynew1,'b--')\n",
        "plt.legend(['Data extraction(coarse) from experimental LS fractogram','After regulation'])\n",
        "# plt.xlim([0,1e6])\n",
        "plt.ylim([0,0.12])\n",
        "plt.show()"
      ],
      "execution_count": 73,
      "outputs": [
        {
          "output_type": "display_data",
          "data": {
            "image/png": "[encoded data removed]",
            "text/plain": [
              "<Figure size 432x288 with 1 Axes>"
            ]
          },
          "metadata": {
            "tags": [],
            "needs_background": "light"
          }
        }
      ]
    },
    {
      "cell_type": "code",
      "metadata": {
        "colab": {
          "base_uri": "https://localhost:8080/"
        },
        "id": "uKKLUajcZAob",
        "outputId": "a80fb5ef-e202-4fe4-e0e2-9cb7746b1607"
      },
      "source": [
        "x_conjugate = xnew\n",
        "y_conjugate = ynew1\n",
        "def predict_verification3(Mw,baselined_intensity):\n",
        "  ##Module calculation\n",
        "  sigmaH = 0\n",
        "  W = []\n",
        "  M =[]\n",
        "  H =[]\n",
        "  sum_Wi_Mi = 0  \n",
        "  sum_WiMi = 0   \n",
        "\n",
        "  for x,y in zip(Mw, baselined_intensity):\n",
        "    if x >= Mw.min() and x <= Mw.max():\n",
        "      sigmaH += y/x\n",
        "      M.append(x)\n",
        "\n",
        "  for x,y in zip(Mw, baselined_intensity):\n",
        "    if x >= Mw.min() and x <= Mw.max():\n",
        "      W.append(y/x/sigmaH)\n",
        "      H.append(y)\n",
        "\n",
        "  for i in range(len(W)):\n",
        "    sum_Wi_Mi += W[i]/M[i]\n",
        "    sum_WiMi += W[i]*M[i]\n",
        "\n",
        "\n",
        "  Mn_tot = 1/(sum_Wi_Mi)\n",
        "  Mw_tot = sum_WiMi\n",
        "  PDI = Mw_tot / Mn_tot\n",
        "\n",
        "  print(f'LS(coarse, after regulation)-derived Conjugate Mn is {Mn_tot:.1f} Da, Mw is {Mw_tot:.1f} Da, PDI is {PDI:.2f}')\n",
        "predict_verification3(x_conjugate,y_conjugate)"
      ],
      "execution_count": 74,
      "outputs": [
        {
          "output_type": "stream",
          "text": [
            "LS(coarse, after regulation)-derived Conjugate Mn is 108185.6 Da, Mw is 174737.7 Da, PDI is 1.62\n"
          ],
          "name": "stdout"
        }
      ]
    },
    {
      "cell_type": "code",
      "metadata": {
        "colab": {
          "base_uri": "https://localhost:8080/"
        },
        "id": "qlgNC54yTCHB",
        "outputId": "c5b91040-46d2-4e7f-c540-5200c5870992"
      },
      "source": [
        "x_conjugate = o1\n",
        "y_conjugate = m1\n",
        "def predict_verification3(Mw,baselined_intensity):\n",
        "  ##Module calculation\n",
        "  sigmaH = 0\n",
        "  W = []\n",
        "  M =[]\n",
        "  H =[]\n",
        "  sum_Wi_Mi = 0  \n",
        "  sum_WiMi = 0   \n",
        "\n",
        "  for x,y in zip(Mw, baselined_intensity):\n",
        "    if x >= Mw.min() and x <= Mw.max():\n",
        "      sigmaH += y\n",
        "      M.append(x)\n",
        "\n",
        "  for x,y in zip(Mw, baselined_intensity):\n",
        "    if x >= Mw.min() and x <= Mw.max():\n",
        "      W.append(y/sigmaH)\n",
        "      H.append(y)\n",
        "\n",
        "  for i in range(len(W)):\n",
        "    sum_Wi_Mi += W[i]/M[i]\n",
        "    sum_WiMi += W[i]*M[i]\n",
        "\n",
        "\n",
        "  Mn_tot = 1/(sum_Wi_Mi)\n",
        "  Mw_tot = sum_WiMi\n",
        "  PDI = Mw_tot / Mn_tot\n",
        "\n",
        "  print(f'RI(coarse)-derived Conjugate Mn is {Mn_tot:.1f} Da, Mw is {Mw_tot:.1f} Da, PDI is {PDI:.2f}')\n",
        "predict_verification3(x_conjugate,y_conjugate)\n"
      ],
      "execution_count": 75,
      "outputs": [
        {
          "output_type": "stream",
          "text": [
            "RI(coarse)-derived Conjugate Mn is 109300.4 Da, Mw is 181960.2 Da, PDI is 1.66\n"
          ],
          "name": "stdout"
        }
      ]
    },
    {
      "cell_type": "code",
      "metadata": {
        "colab": {
          "base_uri": "https://localhost:8080/"
        },
        "id": "RJMoob5OUXwp",
        "outputId": "5099abc8-1159-47c9-be45-220a580fc238"
      },
      "source": [
        "x_conjugate = o2\n",
        "y_conjugate = m2\n",
        "def predict_verification3(Mw,baselined_intensity):\n",
        "  ##Module calculation\n",
        "  sigmaH = 0\n",
        "  W = []\n",
        "  M =[]\n",
        "  H =[]\n",
        "  sum_Wi_Mi = 0  \n",
        "  sum_WiMi = 0   \n",
        "\n",
        "  for x,y in zip(Mw, baselined_intensity):\n",
        "    if x >= Mw.min() and x <= Mw.max():\n",
        "      sigmaH += y/x\n",
        "      M.append(x)\n",
        "\n",
        "  for x,y in zip(Mw, baselined_intensity):\n",
        "    if x >= Mw.min() and x <= Mw.max():\n",
        "      W.append(y/x/sigmaH)\n",
        "      H.append(y)\n",
        "\n",
        "  for i in range(len(W)):\n",
        "    sum_Wi_Mi += W[i]/M[i]\n",
        "    sum_WiMi += W[i]*M[i]\n",
        "\n",
        "\n",
        "  Mn_tot = 1/(sum_Wi_Mi)\n",
        "  Mw_tot = sum_WiMi\n",
        "  PDI = Mw_tot / Mn_tot\n",
        "\n",
        "  print(f'LS(coarse)-derived Conjugate Mn is {Mn_tot:.1f} Da, Mw is {Mw_tot:.1f} Da, PDI is {PDI:.2f}')\n",
        "predict_verification3(x_conjugate,y_conjugate)\n"
      ],
      "execution_count": 76,
      "outputs": [
        {
          "output_type": "stream",
          "text": [
            "LS(coarse)-derived Conjugate Mn is 106859.7 Da, Mw is 179969.9 Da, PDI is 1.68\n"
          ],
          "name": "stdout"
        }
      ]
    },
    {
      "cell_type": "code",
      "metadata": {
        "id": "zcZhanWjTeC8",
        "colab": {
          "base_uri": "https://localhost:8080/"
        },
        "outputId": "db4646b9-57bc-4c62-b0d3-a39f4a0be3f4"
      },
      "source": [
        "np.sum(ynew1)"
      ],
      "execution_count": 77,
      "outputs": [
        {
          "output_type": "execute_result",
          "data": {
            "text/plain": [
              "10.004295642132927"
            ]
          },
          "metadata": {
            "tags": []
          },
          "execution_count": 77
        }
      ]
    },
    {
      "cell_type": "code",
      "metadata": {
        "id": "EO27AW2P-Nab"
      },
      "source": [
        ""
      ],
      "execution_count": 77,
      "outputs": []
    }
  ]
}